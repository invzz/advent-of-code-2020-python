{
 "metadata": {
  "language_info": {
   "codemirror_mode": {
    "name": "ipython",
    "version": 3
   },
   "file_extension": ".py",
   "mimetype": "text/x-python",
   "name": "python",
   "nbconvert_exporter": "python",
   "pygments_lexer": "ipython3",
   "version": "3.7.9-final"
  },
  "orig_nbformat": 2,
  "kernelspec": {
   "name": "python3",
   "display_name": "Python 3"
  }
 },
 "nbformat": 4,
 "nbformat_minor": 2,
 "cells": [
  {
   "source": [
    "INPUT_LOCATION = 'day2.txt'"
   ],
   "cell_type": "code",
   "metadata": {},
   "execution_count": 121,
   "outputs": []
  },
  {
   "cell_type": "code",
   "execution_count": 122,
   "metadata": {},
   "outputs": [],
   "source": [
    "# fetch data \n",
    "raw_data = open(INPUT_LOCATION, 'r').readlines()\n",
    "clean_data = list(map(lambda x:  x.rstrip(),raw_data))"
   ]
  },
  {
   "cell_type": "code",
   "execution_count": 123,
   "metadata": {},
   "outputs": [],
   "source": [
    "# using regex\n",
    "import re\n",
    "\n",
    "# gives a dictionary I can later use \n",
    "def _tokenize(string):\n",
    "   match = re.search( r'(\\d*)-(\\d*)\\s(\\w):\\s(\\w*)',string)\n",
    "   min_rep = int(match.group(1))\n",
    "   max_rep = int(match.group(2))\n",
    "   char = match.group(3)\n",
    "   password = match.group(4)\n",
    "   return {\n",
    "       'min':min_rep,\n",
    "       'max':max_rep,\n",
    "       'char':char,\n",
    "       'password':password\n",
    "   }\n",
    "# first question policy validator\n",
    "def _validate_first_question(data_dict):\n",
    "    count = data_dict['password'].count(data_dict['char'])\n",
    "    is_valid = count >= data_dict['min'] and count <= data_dict['max']  \n",
    "    if is_valid:\n",
    "        return True\n",
    "    return False\n",
    "\n",
    "# second question policy validator\n",
    "def _validate_second_question(data_dict ):\n",
    "    first = data_dict['password'][data_dict['min']-1]\n",
    "    second =  data_dict['password'][data_dict['max']-1]\n",
    "    # ^ == xor\n",
    "    has_char_in_position = (first == data_dict['char']) ^ (second == data_dict['char'])\n",
    "    if has_char_in_position:\n",
    "        return True\n",
    "    return False\n",
    "\n",
    "# 1 liner ... python ways are mysterious\n",
    "def evaluate(clean_data,_validator):\n",
    "    return list(filter(lambda x: _validator(x) ,list(map(lambda x: _tokenize(x), clean_data))))\n",
    "    \n"
   ]
  },
  {
   "cell_type": "code",
   "execution_count": 124,
   "metadata": {},
   "outputs": [
    {
     "output_type": "stream",
     "name": "stdout",
     "text": [
      "582  passwords are good, with the first interpretation of policies\n729  passwords are good, with the second interpretation of policies\n"
     ]
    }
   ],
   "source": [
    "# How many good passwords?\n",
    "first = len(evaluate(clean_data, _validate_first_question))\n",
    "second = len(evaluate(clean_data, _validate_second_question))\n",
    "print( first ,' passwords are good, with the first interpretation of policies')\n",
    "print( second ,' passwords are good, with the second interpretation of policies')"
   ]
  },
  {
   "cell_type": "code",
   "execution_count": null,
   "metadata": {},
   "outputs": [],
   "source": []
  }
 ]
}