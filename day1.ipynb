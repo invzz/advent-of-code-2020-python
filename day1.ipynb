{
 "metadata": {
  "language_info": {
   "codemirror_mode": {
    "name": "ipython",
    "version": 3
   },
   "file_extension": ".py",
   "mimetype": "text/x-python",
   "name": "python",
   "nbconvert_exporter": "python",
   "pygments_lexer": "ipython3",
   "version": "3.7.9-final"
  },
  "orig_nbformat": 2,
  "kernelspec": {
   "name": "python3",
   "display_name": "Python 3"
  }
 },
 "nbformat": 4,
 "nbformat_minor": 2,
 "cells": [
  {
   "source": [
    "INPUT_LOCATION = 'day1.txt'\n",
    "CONST_SUM = 2020;"
   ],
   "cell_type": "code",
   "metadata": {},
   "execution_count": 4,
   "outputs": []
  },
  {
   "cell_type": "code",
   "execution_count": 5,
   "metadata": {},
   "outputs": [],
   "source": [
    "# fetch data \n",
    "raw_data = open(INPUT_LOCATION, 'r').readlines()\n",
    "data = list(map(lambda x: int( x.rstrip()), raw_data))\n",
    "# sorting data\n",
    "data.sort()\n",
    "#first element index\n",
    "l = 0\n",
    "#last element index\n",
    "h = len(data) - 1"
   ]
  },
  {
   "cell_type": "code",
   "execution_count": 6,
   "metadata": {},
   "outputs": [],
   "source": [
    "# find 2 numbers a, b from a list such that a+b = check_sum\n",
    "def find2numbersGivenSum(l, h, data, confronti, check_sum):\n",
    "    if (data[h] + data[l]) == check_sum:\n",
    "        confronti+=1\n",
    "        print('after ' , confronti, 'comaprisons I found:')\n",
    "        print('2 numbers found :: ' ,data[h], ' + ', data[l])\n",
    "        assert(data[h]+data[l] == check_sum)\n",
    "        return  True,data[h],data[l]\n",
    "    if (data[h] + data[l]) < check_sum:\n",
    "        confronti+=1\n",
    "        return find2numbersGivenSum(l+1,h,data,confronti, check_sum)\n",
    "    if (data[h] + data[l]) > check_sum:\n",
    "        confronti+=1\n",
    "        return find2numbersGivenSum(l,h-1,data,confronti, check_sum)\n",
    "    return False,h,l"
   ]
  },
  {
   "cell_type": "code",
   "execution_count": 10,
   "metadata": {},
   "outputs": [
    {
     "output_type": "stream",
     "name": "stdout",
     "text": [
      "after  136 comaprisons I found:\n2 numbers found ::  1547  +  473\n"
     ]
    },
    {
     "output_type": "execute_result",
     "data": {
      "text/plain": [
       "(True, 1547, 473)"
      ]
     },
     "metadata": {},
     "execution_count": 10
    }
   ],
   "source": [
    "find2numbersGivenSum(l,h,data,0, CONST_SUM)\n"
   ]
  },
  {
   "cell_type": "code",
   "execution_count": 8,
   "metadata": {},
   "outputs": [],
   "source": [
    "# find 3 numbers a, b from a list such that a+b = check_sum\n",
    "def find3numberGivenSum(data, pivot, confronti=0):\n",
    "    curr = data[pivot]\n",
    "    check_sum = CONST_SUM - curr; \n",
    "    found,n2,n3 = find2numbersGivenSum(l,h,data,confronti,check_sum)\n",
    "    if found:\n",
    "        print('3 numbers found :: ' ,curr, ' + ', n2, ' + ',n3 )\n",
    "        return True,curr,n2,n3\n",
    "    else:\n",
    "        low += 1\n",
    "        if pivot <= h:\n",
    "            return find3numberGivenSum(data, pivot, confronti)\n",
    "        else : return False,curr,-1,-1\n",
    "    "
   ]
  },
  {
   "cell_type": "code",
   "execution_count": 9,
   "metadata": {},
   "outputs": [
    {
     "output_type": "stream",
     "name": "stdout",
     "text": [
      "after  163 comaprisons I found:\n2 numbers found ::  1433  +  365\n3 numbers found ::  222  +  1433  +  365\n"
     ]
    },
    {
     "output_type": "execute_result",
     "data": {
      "text/plain": [
       "(True, 222, 1433, 365)"
      ]
     },
     "metadata": {},
     "execution_count": 9
    }
   ],
   "source": [
    "find3numberGivenSum(data,l,0)"
   ]
  },
  {
   "cell_type": "code",
   "execution_count": null,
   "metadata": {},
   "outputs": [],
   "source": []
  }
 ]
}