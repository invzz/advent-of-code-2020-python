{
 "metadata": {
  "language_info": {
   "codemirror_mode": {
    "name": "ipython",
    "version": 3
   },
   "file_extension": ".py",
   "mimetype": "text/x-python",
   "name": "python",
   "nbconvert_exporter": "python",
   "pygments_lexer": "ipython3",
   "version": "3.7.9-final"
  },
  "orig_nbformat": 2,
  "kernelspec": {
   "name": "python3",
   "display_name": "Python 3"
  }
 },
 "nbformat": 4,
 "nbformat_minor": 2,
 "cells": [
  {
   "source": [
    "INPUT_LOCATION = 'sum2020input.txt'\n",
    "CONST_SUM = 2020;"
   ],
   "cell_type": "code",
   "metadata": {},
   "execution_count": 1,
   "outputs": []
  },
  {
   "cell_type": "code",
   "execution_count": 15,
   "metadata": {},
   "outputs": [],
   "source": [
    "# fetch data \n",
    "raw_data = open(INPUT_LOCATION, 'r').readlines()\n",
    "data = list(map(lambda x: int( x.rstrip()), raw_data))\n",
    "# sorting data\n",
    "data.sort()\n",
    "#first element index\n",
    "l = 0\n",
    "#last element index\n",
    "h = len(data) - 1"
   ]
  },
  {
   "cell_type": "code",
   "execution_count": 16,
   "metadata": {},
   "outputs": [],
   "source": [
    "\n",
    "def my_awesome_algo(l, h, data, confronti = 0):\n",
    "    current_sum = data[h] + data[l]\n",
    "    if current_sum == 2020:\n",
    "        confronti+=1\n",
    "        print('after ' , confronti, 'comaprisons I found:')\n",
    "        print('found ',current_sum , ' = ' ,data[h], ' + ', data[l])\n",
    "        assert(data[h]+data[l] == 2020)\n",
    "        return  data[h] * data[l]\n",
    "    if current_sum < 2020:\n",
    "        confronti+=1\n",
    "        return my_awesome_algo(l+1,h,data,confronti)\n",
    "    if current_sum > 2020:\n",
    "        confronti+=1\n",
    "        return my_awesome_algo(l,h-1,data,confronti)\n"
   ]
  },
  {
   "cell_type": "code",
   "execution_count": 17,
   "metadata": {},
   "outputs": [
    {
     "output_type": "stream",
     "name": "stdout",
     "text": [
      "after  136 comaprisons I found:\nfound  2020  =  1547  +  473\n"
     ]
    },
    {
     "output_type": "execute_result",
     "data": {
      "text/plain": [
       "731731"
      ]
     },
     "metadata": {},
     "execution_count": 17
    }
   ],
   "source": [
    "my_awesome_algo(l,h,data)"
   ]
  }
 ]
}