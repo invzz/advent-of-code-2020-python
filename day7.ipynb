{
 "cells": [
  {
   "cell_type": "code",
   "execution_count": 87,
   "metadata": {},
   "outputs": [],
   "source": [
    "#global\n",
    "INPUT_LOCATION = './inputs/day7.txt'\n",
    "SEPARATOR = '\\n'"
   ]
  },
  {
   "cell_type": "code",
   "execution_count": 88,
   "metadata": {},
   "outputs": [],
   "source": [
    "clean_data = list(map(lambda x: x.rstrip() if len(x) > 1 else x,open(INPUT_LOCATION, 'r').readlines()))  "
   ]
  },
  {
   "cell_type": "code",
   "execution_count": 89,
   "metadata": {},
   "outputs": [],
   "source": [
    "# nodes for my bag graph\n",
    "class Bag:\n",
    "    \n",
    "    def __init__(self, bag_color, content={}):\n",
    "        self.color = bag_color\n",
    "        self.content = content\n",
    "        self.discovered = False\n",
    "    \n",
    "    def __getitem__(self, key):\n",
    "        return self.content[key]\n",
    "\n",
    "    def __eq__(self, other):\n",
    "        if isinstance(other, Bag):\n",
    "            return self.color == other.color\n",
    "        return False\n",
    "    \n",
    "    def __lt__(self, other):\n",
    "        return self.color < other.color\n",
    "    \n",
    "    def __repr__(self):\n",
    "        return 'a {} bag {}'.format(self.color,self.content) \n",
    "    \n",
    "    def __str__(self):\n",
    "        return 'a {} bag {}'.format(self.color,self.content) \n",
    "\n",
    "    def __len__(self):\n",
    "        return len(self.content)"
   ]
  },
  {
   "cell_type": "code",
   "execution_count": 90,
   "metadata": {},
   "outputs": [],
   "source": [
    "# graph representing bags dependencies\n",
    "# built from scratch... just for fun..\n",
    "class BagsGraph:\n",
    "    def __init__(self, bags = []):\n",
    "        self.bags = bags\n",
    "        self.dep = []\n",
    "\n",
    "    def __repr__(self):\n",
    "        return 'graph with {} Nodes'.format(len(self.bags))\n",
    "    \n",
    "    def __str__(self):\n",
    "        return 'graph with {} Nodes'.format(len(self.bags))\n",
    "    \n",
    "    def __getitem__(self, key):\n",
    "        return self.findBag(key)\n",
    "    \n",
    "    def reset(self):\n",
    "        for node in self.bags:\n",
    "            node.discovered = False\n",
    "    \n",
    "    def findIndex(self, bag):\n",
    "        return self.bags.index(bag)\n",
    "    \n",
    "    def findBag(self, bag_color):\n",
    "        return next(x for x in self.bags if x.color == bag_color)\n",
    "    \n",
    "    def get_parents(self, bag):\n",
    "        return [x for x in self.bags if bag.color in x.content]\n",
    "    \n",
    "    def markVisited(self,bag):\n",
    "        self.bags[self.findIndex(bag)].discovered = True\n",
    "    \n",
    "    def __recursive_parent_finder(self,bag, container = [],prefix = ''):\n",
    "        self.markVisited(bag)\n",
    "        # print(prefix,'*',bag, 'has :')\n",
    "        p = self.get_parents(bag)\n",
    "        if len(p) > 0 :\n",
    "            for x in p:\n",
    "                if x.discovered == False:\n",
    "                    container.append(x)\n",
    "                    #print ('{}-{}'.format(prefix,x))\n",
    "                    self.__recursive_parent_finder(x,container,prefix+'\\t')\n",
    "                # else: print(\"ALREADY VISITED!\")\n",
    "        # else: print('{}-no parent!'.format(prefix))\n",
    "        container.sort()\n",
    "        return len(container)\n",
    "    \n",
    "    def count_parents(self, bag):\n",
    "        self.reset()\n",
    "        result = []\n",
    "        return self.__recursive_parent_finder(bag,result)\n",
    "        \n",
    "    def dfs(self, bag):\n",
    "        result = []\n",
    "        self.reset()\n",
    "        return self.__dfs(bag, result)\n",
    "        \n",
    "    def __dfs(self, bag, result = []):\n",
    "        i = self.findIndex(bag)\n",
    "        #print(result)\n",
    "        self.bags[i].discovered = True\n",
    "        result.append(self.bags[i])\n",
    "        for el in self.bags[i].content:\n",
    "            child = self.findBag(el)\n",
    "#             print(child)\n",
    "            if not child.discovered:\n",
    "#                 print('discovered: ', child.color)\n",
    "                self.__dfs(child, result)\n",
    "        return result\n",
    "\n",
    "    def append(self, Bag):\n",
    "        self.bags.append(Bag)"
   ]
  },
  {
   "cell_type": "code",
   "execution_count": 92,
   "metadata": {},
   "outputs": [
    {
     "output_type": "stream",
     "name": "stdout",
     "text": [
      "graph with 594 Nodes\n"
     ]
    }
   ],
   "source": [
    "# cleaning data and building a bag dependecy graph\n",
    "ignored = ['bags,','bags.','bags','bag','bag,','contain']\n",
    "\n",
    "rules = []\n",
    "bg = BagsGraph([])\n",
    "clean = dict()\n",
    "\n",
    "for raw_rule in clean_data:\n",
    "    rule = raw_rule.split(' ')\n",
    "    to_be_deleted = []\n",
    "    for el in rule:\n",
    "        if el in ignored:\n",
    "            to_be_deleted.append(el)\n",
    "    for el in to_be_deleted:\n",
    "        rule.remove(el)\n",
    "    \n",
    "   # print(rule)\n",
    "    key = rule[0] +' '+ rule[1]\n",
    "    clean[key] = {}\n",
    "    for i in range(3,len(rule)):\n",
    "        if i % 3 == 0 and i + 1 < len(rule):\n",
    "            clean[key].update({rule[i] +' '+ rule[i+1]: int(rule[i-1])} )\n",
    "    b = Bag(key, clean[key])\n",
    "    bg.append(b)\n",
    "\n",
    "print(bags_graph)"
   ]
  },
  {
   "cell_type": "code",
   "execution_count": 93,
   "metadata": {},
   "outputs": [],
   "source": [
    "bg = bags_graph"
   ]
  },
  {
   "cell_type": "code",
   "execution_count": 94,
   "metadata": {},
   "outputs": [
    {
     "output_type": "execute_result",
     "data": {
      "text/plain": [
       "246"
      ]
     },
     "metadata": {},
     "execution_count": 94
    }
   ],
   "source": [
    "# first question \n",
    "bags_graph.count_parents(Bag('shiny gold'))"
   ]
  },
  {
   "cell_type": "code",
   "execution_count": 100,
   "metadata": {},
   "outputs": [
    {
     "output_type": "stream",
     "name": "stdout",
     "text": [
      " 1 shiny gold contains: \n\t 5 dark salmon contains: \n\t\t 3 pale turquoise contains: \n\t\t\t 3 vibrant red contains nothing. \n\t\t 5 faded tan contains: \n\t\t\t 1 muted plum contains: \n\t\t\t\t 4 dull red contains: \n\t\t\t\t\t 2 dotted maroon contains nothing. \n\t\t\t\t\t 1 posh salmon contains nothing. \n\t\t\t\t\t 3 dotted chartreuse contains nothing. \n\t\t\t\t\t 2 dim yellow contains: \n\t\t\t\t\t\t 1 dotted chartreuse contains nothing. \n\t\t\t\t 1 dotted maroon contains nothing. \n\t\t\t\t 1 vibrant red contains nothing. \n\t\t\t\t 4 bright chartreuse contains: \n\t\t\t\t\t 1 muted gold contains nothing. \n\t\t\t\t\t 1 dotted maroon contains nothing. \n\t\t\t 1 posh salmon contains nothing. \n\t\t 1 mirrored chartreuse contains nothing. \n\t 2 wavy purple contains: \n\t\t 3 dim yellow contains: \n\t\t\t 1 dotted chartreuse contains nothing. \n\t\t 1 posh salmon contains nothing. \n\t 5 dark cyan contains: \n\t\t 3 dotted maroon contains nothing. \n\t\t 2 vibrant red contains nothing. \n\t 5 dull chartreuse contains: \n\t\t 3 mirrored black contains nothing. \n\t\t 3 dotted salmon contains: \n\t\t\t 5 dull red contains: \n\t\t\t\t 2 dotted maroon contains nothing. \n\t\t\t\t 1 posh salmon contains nothing. \n\t\t\t\t 3 dotted chartreuse contains nothing. \n\t\t\t\t 2 dim yellow contains: \n\t\t\t\t\t 1 dotted chartreuse contains nothing. \n\t\t\t 2 striped salmon contains nothing. \n\t\t\t 5 dotted maroon contains nothing. \n\t\t\t 3 shiny red contains: \n\t\t\t\t 4 posh salmon contains nothing. \n\t\t\t\t 1 dotted chartreuse contains nothing. \n\t\t 5 pale turquoise contains: \n\t\t\t 3 vibrant red contains nothing. \n"
     ]
    },
    {
     "output_type": "execute_result",
     "data": {
      "text/plain": [
       "2976"
      ]
     },
     "metadata": {},
     "execution_count": 100
    }
   ],
   "source": [
    "# second question \n",
    "# weighted graph travelsal\n",
    "def sumbag(bag, p='', q=1):\n",
    "    sum=0\n",
    "    if bag.content == {}:\n",
    "        print(p,q,bag.color, 'contains nothing. ' )\n",
    "        return q\n",
    "    else:\n",
    "        print(p,q,bag.color, 'contains: ')\n",
    "        for color in bag.content:\n",
    "            child = bg[color]\n",
    "            sum += sumbag(child,p+'\\t',bag[color]) \n",
    "        return sum*q+q\n",
    "    \n",
    "sumbag(bg['shiny gold'])-1\n"
   ]
  },
  {
   "cell_type": "code",
   "execution_count": null,
   "metadata": {},
   "outputs": [],
   "source": []
  }
 ],
 "metadata": {
  "kernelspec": {
   "name": "Python 3.8.5 64-bit ('base': conda)",
   "display_name": "Python 3.8.5 64-bit ('base': conda)",
   "metadata": {
    "interpreter": {
     "hash": "f50bd5474255f82aa829301912ce59e29110123be660cf8d7583f66a20371684"
    }
   }
  },
  "language_info": {
   "codemirror_mode": {
    "name": "ipython",
    "version": 3
   },
   "file_extension": ".py",
   "mimetype": "text/x-python",
   "name": "python",
   "nbconvert_exporter": "python",
   "pygments_lexer": "ipython3",
   "version": "3.8.5-final"
  }
 },
 "nbformat": 4,
 "nbformat_minor": 4
}