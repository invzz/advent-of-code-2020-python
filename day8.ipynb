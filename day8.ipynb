{
 "cells": [
  {
   "cell_type": "code",
   "execution_count": 180,
   "metadata": {},
   "outputs": [],
   "source": [
    "#global\n",
    "INPUT_LOCATION = './inputs/day8.txt'\n",
    "SEPARATOR = '\\n'"
   ]
  },
  {
   "cell_type": "code",
   "execution_count": 181,
   "metadata": {},
   "outputs": [],
   "source": [
    "program = list(map(lambda x: x.rstrip() if len(x) > 1 else x,open(INPUT_LOCATION, 'r').readlines()))  \n"
   ]
  },
  {
   "cell_type": "code",
   "execution_count": 207,
   "metadata": {},
   "outputs": [],
   "source": [
    "import re\n",
    "\n",
    "class HandledGameConsole:\n",
    "    #tokens = ['acc','jmp','nop']\n",
    "    pattern = r'(acc|jmp|nop)\\s(\\+\\d*|\\-\\d*|\\d*)'\n",
    "    \n",
    "    def __init__(self):\n",
    "        # accumulator\n",
    "        self.accumulator = 0\n",
    "        \n",
    "        # list of visited instruction lines\n",
    "        # useful for \"debug\"\n",
    "        self.visited = set()\n",
    "        \n",
    "        # program counter, next exution line\n",
    "        self.pc = 0\n",
    "    \n",
    "    def _tokenize(self, pc = -1):\n",
    "        if (pc < 0):\n",
    "            pc = self.pc\n",
    "        match = re.search(self.pattern, self.program[pc])\n",
    "        instruction = match.group(1)\n",
    "        arg = int(match.group(2))\n",
    "        return (instruction, arg)\n",
    "\n",
    "    def _createInstruction(self, instruction, arg):\n",
    "        return instruction + \" \" + str(arg)\n",
    "\n",
    "\n",
    "\n",
    "    def halt(self, message):\n",
    "        print(message)\n",
    "        return\n",
    "    \n",
    "    def exec(self, instruction,arg):\n",
    "        \n",
    "        if instruction == 'acc':\n",
    "            #print(self.pc,'\\t',instruction, '\\t',arg)\n",
    "            self.accumulator += arg\n",
    "            self.pc += 1\n",
    "            return\n",
    "        \n",
    "        if instruction == 'jmp':\n",
    "            #print(self.pc,'\\t',instruction, '\\t',arg)\n",
    "    \n",
    "            self.pc += arg\n",
    "            return\n",
    "        \n",
    "        if instruction == 'nop':\n",
    "            #print(self.pc,'\\t',instruction, '\\t',arg)\n",
    "\n",
    "            self.pc +=1\n",
    "            return\n",
    "        exit(0) \n",
    "\n",
    "    \n",
    "\n",
    "    def run(self, prg,debug =False):\n",
    "        self.pc = 0\n",
    "        self.accumulator = 0\n",
    "        self.visited = set()\n",
    "        self.program = prg\n",
    "        while self.pc < len(prg):\n",
    "            #match = re.search(self.pattern, program[self.pc])\n",
    "            #instruction = match.group(1)\n",
    "            #arg = int(match.group(2))\n",
    "            (instruction, arg) = self._tokenize()\n",
    "            if(self.pc in self.visited):\n",
    "                acc = self.accumulator\n",
    "                self.exec(instruction, arg)\n",
    "                if(debug):\n",
    "                    self.halt('Infinite Loop detected')\n",
    "                return self.accumulator, False\n",
    "            self.visited.add(self.pc)\n",
    "            self.exec(instruction, arg)\n",
    "        if(debug):    \n",
    "            self.halt('done :-)')\n",
    "            print(self.visited)\n",
    "        return self.accumulator, True\n",
    "     \n",
    "    def tryFix(self, prg):\n",
    "        pc = 0\n",
    "        i = 1\n",
    "        self.pc =0\n",
    "        while (pc < len(prg)):\n",
    "            (instruction, arg) = self._tokenize(pc)\n",
    "            if (instruction != \"acc\"):\n",
    "                _program = [l for l in prg] \n",
    "                instr, arg = self._tokenize(pc)\n",
    "                new_instr =  'jmp' if instr == 'nop' else 'nop'\n",
    "                _program[pc] =  self._createInstruction(new_instr, arg)\n",
    "                \n",
    "                acc, isDone = self.run(_program)\n",
    "                if (isDone) : return acc, isDone\n",
    "        \n",
    "            pc += 1; \n",
    "\n",
    "        \n",
    "        return -1, False\n",
    "\n",
    "    \n",
    "\n",
    "myConsole = HandledGameConsole()"
   ]
  },
  {
   "cell_type": "code",
   "execution_count": 208,
   "metadata": {},
   "outputs": [
    {
     "output_type": "execute_result",
     "data": {
      "text/plain": [
       "(1915, False)"
      ]
     },
     "metadata": {},
     "execution_count": 208
    }
   ],
   "source": [
    "# first question\n",
    "myConsole.run(program)\n"
   ]
  },
  {
   "cell_type": "code",
   "execution_count": 209,
   "metadata": {},
   "outputs": [
    {
     "output_type": "execute_result",
     "data": {
      "text/plain": [
       "(944, True)"
      ]
     },
     "metadata": {},
     "execution_count": 209
    }
   ],
   "source": [
    "\n",
    "myConsole.tryFix(program)"
   ]
  },
  {
   "cell_type": "code",
   "execution_count": null,
   "metadata": {},
   "outputs": [],
   "source": []
  }
 ],
 "metadata": {
  "kernelspec": {
   "name": "Python 3.8.5 64-bit ('base': conda)",
   "display_name": "Python 3.8.5 64-bit ('base': conda)",
   "metadata": {
    "interpreter": {
     "hash": "f50bd5474255f82aa829301912ce59e29110123be660cf8d7583f66a20371684"
    }
   }
  },
  "language_info": {
   "codemirror_mode": {
    "name": "ipython",
    "version": 3
   },
   "file_extension": ".py",
   "mimetype": "text/x-python",
   "name": "python",
   "nbconvert_exporter": "python",
   "pygments_lexer": "ipython3",
   "version": "3.8.5-final"
  }
 },
 "nbformat": 4,
 "nbformat_minor": 4
}