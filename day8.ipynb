{
 "cells": [
  {
   "cell_type": "code",
   "execution_count": 1,
   "metadata": {},
   "outputs": [],
   "source": [
    "#global\n",
    "INPUT_LOCATION = './inputs/day8.txt'\n",
    "SEPARATOR = '\\n'"
   ]
  },
  {
   "cell_type": "code",
   "execution_count": 2,
   "metadata": {},
   "outputs": [],
   "source": [
    "program = list(map(lambda x: x.rstrip() if len(x) > 1 else x,open(INPUT_LOCATION, 'r').readlines()))  "
   ]
  },
  {
   "cell_type": "code",
   "execution_count": 3,
   "metadata": {},
   "outputs": [
    {
     "output_type": "execute_result",
     "data": {
      "text/plain": [
       "['jmp +11',\n",
       " 'nop +495',\n",
       " 'nop +402',\n",
       " 'jmp +570',\n",
       " 'jmp +569',\n",
       " 'jmp +451',\n",
       " 'acc -12',\n",
       " 'jmp +364',\n",
       " 'acc +30',\n",
       " 'acc +21']"
      ]
     },
     "metadata": {},
     "execution_count": 3
    }
   ],
   "source": [
    "program[:10]"
   ]
  },
  {
   "cell_type": "code",
   "execution_count": 23,
   "metadata": {},
   "outputs": [],
   "source": [
    "import re\n",
    "\n",
    "class HandledGameConsole:\n",
    "    #tokens = ['acc','jmp','nop']\n",
    "    pattern = r'(acc|jmp|nop)\\s(\\+\\d*|\\-\\d*)'\n",
    "    \n",
    "    def __init__(self):\n",
    "        # accumulator\n",
    "        self.accumulator = 0\n",
    "        \n",
    "        # list of visited instruction lines\n",
    "        # useful for \"debug\"\n",
    "        self.visited = set()\n",
    "        \n",
    "        # program counter, next exution line\n",
    "        self.pc = 0\n",
    "    \n",
    "    def halt(self, message):\n",
    "        print(message)\n",
    "        return\n",
    "    \n",
    "    def exec(self, instruction,arg):\n",
    "        \n",
    "        if instruction == 'acc':\n",
    "            self.accumulator += arg\n",
    "            self.pc += 1\n",
    "            return\n",
    "        \n",
    "        if instruction == 'jmp':\n",
    "            print('[ debug ]', self.pc,'\\t',instruction,'\\t',arg)\n",
    "    \n",
    "            self.pc += arg\n",
    "            return\n",
    "        \n",
    "        if instruction == 'nop':\n",
    "            print('[ debug ]', self.pc,'\\t',instruction,'\\t',arg)\n",
    "\n",
    "            self.pc +=1\n",
    "            return\n",
    "\n",
    "    def run(self, program,debug =False):\n",
    "        self.pc = 0\n",
    "        self.accumulator = 0\n",
    "        self.visited = set()\n",
    "        while self.pc < len(program):\n",
    "            match = re.search(self.pattern, program[self.pc])\n",
    "            instruction = match.group(1)\n",
    "            arg = int(match.group(2))\n",
    "            if(self.pc in self.visited):\n",
    "                self.halt('exterminated :-(')\n",
    "                return self.accumulator\n",
    "            self.visited.add(self.pc)\n",
    "            self.exec(instruction, arg)\n",
    "        self.halt('done :-)')\n",
    "        return self.accumulator\n",
    "\n",
    "    def find(self, program,debug =False):\n",
    "        self.pc = 0\n",
    "        self.accumulator = 0\n",
    "        \n",
    "        while self.pc < len(program):\n",
    "            match = re.search(self.pattern, program[self.pc])\n",
    "            instruction = match.group(1)\n",
    "            arg = int(match.group(2))\n",
    "            if(debug):\n",
    "                print('[ debug ]', self.pc,'\\t',instruction,'\\t',arg)\n",
    "            \n",
    "            self.exec(instruction, arg)\n",
    "\n",
    "            \n",
    "\n",
    "myConsole = HandledGameConsole()"
   ]
  },
  {
   "cell_type": "code",
   "execution_count": 24,
   "metadata": {},
   "outputs": [
    {
     "output_type": "stream",
     "name": "stdout",
     "text": [
      "[ debug ] 0 \t jmp \t 11\n[ debug ] 11 \t jmp \t 87\n[ debug ] 101 \t jmp \t -97\n[ debug ] 4 \t jmp \t 569\n[ debug ] 576 \t nop \t -218\n[ debug ] 577 \t jmp \t -460\n[ debug ] 118 \t jmp \t 385\n[ debug ] 505 \t jmp \t -138\n[ debug ] 368 \t jmp \t 225\n[ debug ] 593 \t jmp \t -560\n[ debug ] 33 \t nop \t 497\n[ debug ] 34 \t nop \t 469\n[ debug ] 36 \t jmp \t 93\n[ debug ] 131 \t jmp \t 413\n[ debug ] 545 \t nop \t -100\n[ debug ] 548 \t jmp \t -524\n[ debug ] 27 \t nop \t 576\n[ debug ] 28 \t jmp \t -22\n[ debug ] 7 \t jmp \t 364\n[ debug ] 371 \t jmp \t 242\n[ debug ] 615 \t jmp \t -470\n[ debug ] 146 \t jmp \t 464\n[ debug ] 610 \t nop \t -275\n[ debug ] 611 \t jmp \t -231\n[ debug ] 384 \t jmp \t 255\n[ debug ] 642 \t jmp \t -13\n[ debug ] 629 \t nop \t -404\n[ debug ] 633 \t jmp \t -54\n[ debug ] 579 \t jmp \t 1\n[ debug ] 580 \t jmp \t -135\n[ debug ] 447 \t jmp \t -46\n[ debug ] 401 \t nop \t -4\n[ debug ] 402 \t jmp \t -386\n[ debug ] 16 \t jmp \t 149\n[ debug ] 167 \t nop \t 168\n[ debug ] 169 \t jmp \t 349\n[ debug ] 518 \t jmp \t -439\n[ debug ] 79 \t nop \t 534\n[ debug ] 81 \t jmp \t 359\n[ debug ] 441 \t jmp \t -358\n[ debug ] 84 \t jmp \t 157\n[ debug ] 243 \t nop \t 132\n[ debug ] 245 \t jmp \t 240\n[ debug ] 486 \t jmp \t -438\n[ debug ] 50 \t jmp \t 153\n[ debug ] 205 \t jmp \t 377\n[ debug ] 582 \t jmp \t 1\n[ debug ] 585 \t jmp \t -61\n[ debug ] 524 \t nop \t -61\n[ debug ] 527 \t jmp \t -312\n[ debug ] 216 \t nop \t 240\n[ debug ] 217 \t jmp \t 109\n[ debug ] 327 \t jmp \t -224\n[ debug ] 105 \t nop \t 425\n[ debug ] 106 \t jmp \t 113\n[ debug ] 220 \t jmp \t 348\n[ debug ] 568 \t jmp \t -218\n[ debug ] 350 \t nop \t 25\n[ debug ] 353 \t jmp \t -314\n[ debug ] 42 \t nop \t 115\n[ debug ] 43 \t jmp \t 67\n[ debug ] 113 \t jmp \t 357\n[ debug ] 471 \t jmp \t -200\n[ debug ] 275 \t jmp \t 23\n[ debug ] 300 \t jmp \t 10\n[ debug ] 311 \t nop \t -131\n[ debug ] 313 \t jmp \t 6\n[ debug ] 319 \t jmp \t 1\n[ debug ] 322 \t jmp \t 324\n[ debug ] 648 \t nop \t -45\n[ debug ] 650 \t jmp \t -217\n[ debug ] 434 \t jmp \t -99\n[ debug ] 339 \t jmp \t -165\n[ debug ] 175 \t jmp \t 215\n[ debug ] 392 \t jmp \t 12\n[ debug ] 406 \t nop \t -28\n[ debug ] 407 \t jmp \t -10\n[ debug ] 397 \t jmp \t -162\n[ debug ] 235 \t nop \t 309\n[ debug ] 236 \t jmp \t 20\n[ debug ] 258 \t jmp \t 1\n[ debug ] 259 \t jmp \t -62\n[ debug ] 201 \t jmp \t 333\n[ debug ] 534 \t jmp \t 1\n[ debug ] 538 \t jmp \t 80\n[ debug ] 618 \t jmp \t 5\n[ debug ] 626 \t nop \t -205\n[ debug ] 627 \t jmp \t -537\n[ debug ] 93 \t jmp \t 466\n[ debug ] 560 \t jmp \t -403\n[ debug ] 160 \t jmp \t 427\n[ debug ] 588 \t jmp \t -79\n[ debug ] 512 \t jmp \t -508\nexterminated :-(\n1915\n"
     ]
    }
   ],
   "source": [
    "# first question\n",
    "print(myConsole.run(program))"
   ]
  },
  {
   "cell_type": "code",
   "execution_count": 25,
   "metadata": {},
   "outputs": [
    {
     "output_type": "stream",
     "name": "stdout",
     "text": [
      "[ debug ] 0 \t jmp \t 11\n[ debug ] 11 \t jmp \t 87\n[ debug ] 101 \t jmp \t -97\n[ debug ] 4 \t jmp \t 569\n[ debug ] 576 \t nop \t -218\n[ debug ] 577 \t jmp \t -460\n[ debug ] 118 \t jmp \t 385\n[ debug ] 505 \t jmp \t -138\n[ debug ] 368 \t jmp \t 225\n[ debug ] 593 \t jmp \t -560\n[ debug ] 33 \t nop \t 497\n[ debug ] 34 \t nop \t 469\n[ debug ] 36 \t jmp \t 93\n[ debug ] 131 \t jmp \t 413\n[ debug ] 545 \t nop \t -100\n[ debug ] 548 \t jmp \t -524\n[ debug ] 27 \t nop \t 576\n[ debug ] 28 \t jmp \t -22\n[ debug ] 7 \t jmp \t 364\n[ debug ] 371 \t jmp \t 242\n[ debug ] 615 \t jmp \t -470\n[ debug ] 146 \t jmp \t 464\n[ debug ] 610 \t nop \t -275\n[ debug ] 611 \t jmp \t -231\n[ debug ] 384 \t jmp \t 255\n[ debug ] 642 \t jmp \t -13\n[ debug ] 629 \t nop \t -404\n[ debug ] 633 \t jmp \t -54\n[ debug ] 579 \t jmp \t 1\n[ debug ] 580 \t jmp \t -135\n[ debug ] 447 \t jmp \t -46\n[ debug ] 401 \t nop \t -4\n[ debug ] 402 \t jmp \t -386\n[ debug ] 16 \t jmp \t 149\n[ debug ] 167 \t nop \t 168\n[ debug ] 169 \t jmp \t 349\n[ debug ] 518 \t jmp \t -439\n[ debug ] 79 \t nop \t 534\n[ debug ] 81 \t jmp \t 359\n[ debug ] 441 \t jmp \t -358\n[ debug ] 84 \t jmp \t 157\n[ debug ] 243 \t nop \t 132\n[ debug ] 245 \t jmp \t 240\n[ debug ] 486 \t jmp \t -438\n[ debug ] 50 \t jmp \t 153\n[ debug ] 205 \t jmp \t 377\n[ debug ] 582 \t jmp \t 1\n[ debug ] 585 \t jmp \t -61\n[ debug ] 524 \t nop \t -61\n[ debug ] 527 \t jmp \t -312\n[ debug ] 216 \t nop \t 240\n[ debug ] 217 \t jmp \t 109\n[ debug ] 327 \t jmp \t -224\n[ debug ] 105 \t nop \t 425\n[ debug ] 106 \t jmp \t 113\n[ debug ] 220 \t jmp \t 348\n[ debug ] 568 \t jmp \t -218\n[ debug ] 350 \t nop \t 25\n[ debug ] 353 \t jmp \t -314\n[ debug ] 42 \t nop \t 115\n[ debug ] 43 \t jmp \t 67\n[ debug ] 113 \t jmp \t 357\n[ debug ] 471 \t jmp \t -200\n[ debug ] 275 \t jmp \t 23\n[ debug ] 300 \t jmp \t 10\n[ debug ] 311 \t nop \t -131\n[ debug ] 313 \t jmp \t 6\n[ debug ] 319 \t jmp \t 1\n[ debug ] 322 \t jmp \t 324\n[ debug ] 648 \t nop \t -45\n[ debug ] 650 \t jmp \t -217\n[ debug ] 434 \t jmp \t -99\n[ debug ] 339 \t jmp \t -165\n[ debug ] 175 \t jmp \t 215\n[ debug ] 392 \t jmp \t 12\n[ debug ] 406 \t nop \t -28\n[ debug ] 407 \t jmp \t -10\n[ debug ] 397 \t jmp \t -162\n[ debug ] 235 \t nop \t 309\n[ debug ] 236 \t jmp \t 20\n[ debug ] 258 \t jmp \t 1\n[ debug ] 259 \t jmp \t -62\n[ debug ] 201 \t jmp \t 333\n[ debug ] 534 \t jmp \t 1\n[ debug ] 538 \t jmp \t 80\n[ debug ] 618 \t jmp \t 5\n[ debug ] 626 \t nop \t -205\n[ debug ] 627 \t jmp \t -537\n[ debug ] 93 \t jmp \t 466\n[ debug ] 560 \t jmp \t -403\n[ debug ] 160 \t jmp \t 427\n[ debug ] 588 \t jmp \t -79\n[ debug ] 512 \t jmp \t -508\nexterminated :-(\n"
     ]
    },
    {
     "output_type": "execute_result",
     "data": {
      "text/plain": [
       "1915"
      ]
     },
     "metadata": {},
     "execution_count": 25
    }
   ],
   "source": [
    "myConsole.run(program,True)"
   ]
  },
  {
   "cell_type": "code",
   "execution_count": null,
   "metadata": {},
   "outputs": [],
   "source": []
  }
 ],
 "metadata": {
  "kernelspec": {
   "name": "Python 3.8.5 64-bit ('base': conda)",
   "display_name": "Python 3.8.5 64-bit ('base': conda)",
   "metadata": {
    "interpreter": {
     "hash": "f50bd5474255f82aa829301912ce59e29110123be660cf8d7583f66a20371684"
    }
   }
  },
  "language_info": {
   "codemirror_mode": {
    "name": "ipython",
    "version": 3
   },
   "file_extension": ".py",
   "mimetype": "text/x-python",
   "name": "python",
   "nbconvert_exporter": "python",
   "pygments_lexer": "ipython3",
   "version": "3.8.5-final"
  }
 },
 "nbformat": 4,
 "nbformat_minor": 4
}