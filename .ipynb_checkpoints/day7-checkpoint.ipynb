{
 "cells": [
  {
   "cell_type": "code",
   "execution_count": 1,
   "metadata": {},
   "outputs": [],
   "source": [
    "import re\n",
    "from functools import reduce\n",
    "import pandas as pd\n",
    "\n",
    "#global\n",
    "INPUT_LOCATION = './inputs/day7.txt'\n",
    "SEPARATOR = '\\n'"
   ]
  },
  {
   "cell_type": "code",
   "execution_count": 2,
   "metadata": {},
   "outputs": [],
   "source": [
    "clean_data = list(map(lambda x: x.rstrip() if len(x) > 1 else x,open(INPUT_LOCATION, 'r').readlines()))  "
   ]
  },
  {
   "cell_type": "code",
   "execution_count": 3,
   "metadata": {},
   "outputs": [],
   "source": [
    "# for test\n",
    "#clean_data=clean_data[0:2]\n",
    "#clean_data"
   ]
  },
  {
   "cell_type": "code",
   "execution_count": 4,
   "metadata": {},
   "outputs": [],
   "source": [
    "# nodes for my bag graph\n",
    "class Bag:\n",
    "    \n",
    "    def __init__(self, bag_color):\n",
    "        self.color = bag_color\n",
    "        self.content = {}\n",
    "        self.discovered = False\n",
    "\n",
    "    def __eq__(self, other):\n",
    "        if isinstance(other, Bag):\n",
    "            return self.color == other.color\n",
    "        return False\n",
    "    \n",
    "    def __lt__(self, other):\n",
    "        return self.color < other.color\n",
    "    \n",
    "    def __repr__(self):\n",
    "        return 'a {} bag {}'.format(self.color,self.content) \n",
    "    \n",
    "    def __str__(self):\n",
    "        return 'a {} bag {}'.format(self.color,self.content) \n",
    "\n",
    "    def __len__(self):\n",
    "        return len(self.content)"
   ]
  },
  {
   "cell_type": "code",
   "execution_count": 22,
   "metadata": {},
   "outputs": [],
   "source": [
    "# graph representing bags dependencies\n",
    "class BagsGraph:\n",
    "    def __init__(self, bags = []):\n",
    "        self.bags = bags\n",
    "        self.dep = []\n",
    "\n",
    "    def __repr__(self):\n",
    "        return 'graph with {} Nodes'.format(len(self.bags))\n",
    "    \n",
    "    def __str__(self):\n",
    "        return 'graph with {} Nodes'.format(len(self.bags))\n",
    "    \n",
    "    def reset(self):\n",
    "        for node in self.bags:\n",
    "            node.discovered = False\n",
    "    \n",
    "    def findIndex(self, bag):\n",
    "        return self.bags.index(bag)\n",
    "    \n",
    "    def findBag(self, bag_color):\n",
    "        return next(x for x in self.bags if x.color == bag_color)\n",
    "    \n",
    "    def get_parents(self, bag):\n",
    "        return [x for x in self.bags if bag.color in x.content]\n",
    "    \n",
    "    def markVisited(self,bag):\n",
    "        self.bags[self.findIndex(bag)].discovered = True\n",
    "    \n",
    "    def __recursive_parent_finder(self,bag, container = [],prefix = ''):\n",
    "        self.markVisited(bag)\n",
    "        # print(prefix,'*',bag, 'has :')\n",
    "        p = self.get_parents(bag)\n",
    "        if len(p) > 0 :\n",
    "            for x in p:\n",
    "                if x.discovered == False:\n",
    "                    container.append(x)\n",
    "                    #print ('{}-{}'.format(prefix,x))\n",
    "                    self.__recursive_parent_finder(x,container,prefix+'\\t')\n",
    "                # else: print(\"ALREADY VISITED!\")\n",
    "        # else: print('{}-no parent!'.format(prefix))\n",
    "        container.sort()\n",
    "        return len(container)\n",
    "    \n",
    "    def count_parents(self, bag):\n",
    "        self.reset()\n",
    "        result = []\n",
    "        return self.__recursive_parent_finder(bag,result)\n",
    "        \n",
    "    def dfs(self, bag):\n",
    "        result = []\n",
    "        self.reset()\n",
    "        return self.__dfs(bag, result)\n",
    "        \n",
    "    def __dfs(self, bag, result = []):\n",
    "        i = self.findIndex(bag)\n",
    "        #print(result)\n",
    "        self.bags[i].discovered = True\n",
    "        for el in self.bags[i].content:\n",
    "            child = self.findBag(el)\n",
    "#             print(child)\n",
    "            if not child.discovered:\n",
    "#                 print('discovered: ', child.color)\n",
    "                result.append(self.bags[i])\n",
    "                self.__dfs(child, result)\n",
    "        result.sort()\n",
    "        return result\n",
    "\n",
    "    def append(self, Bag):\n",
    "        self.bags.append(Bag)"
   ]
  },
  {
   "cell_type": "code",
   "execution_count": 27,
   "metadata": {},
   "outputs": [
    {
     "name": "stdout",
     "output_type": "stream",
     "text": [
      "graph with 594 Nodes\n"
     ]
    }
   ],
   "source": [
    "# cleaning data and building a bag dependecy graph\n",
    "ignored = ['bags,','bags.','bags','bag','bag,','contain']\n",
    "rules = []\n",
    "bags_graph = BagsGraph([])\n",
    "clean = dict()\n",
    "for raw_rule in clean_data:\n",
    "    rule = raw_rule.split(' ')\n",
    "    to_be_deleted = []\n",
    "    for el in rule:\n",
    "        if el in ignored:\n",
    "            to_be_deleted.append(el)\n",
    "    for el in to_be_deleted:\n",
    "        rule.remove(el)\n",
    "    \n",
    "   # print(rule)\n",
    "    key = rule[0] +' '+ rule[1]\n",
    "    clean[key] = {}\n",
    "    for i in range(3,len(rule)):\n",
    "        #try:\n",
    "        if i % 3 == 0 and i + 1 < len(rule):\n",
    "            clean[rule[0] +' '+ rule[1]].update({rule[i] +' '+ rule[i+1]: int(rule[i-1])} )\n",
    "        #except:\n",
    "        #    for k in clean[key].keys\n",
    "        #        clean[key].update({})\n",
    "    bag_node = Bag(key)\n",
    "    bag_node.content = clean[key] \n",
    "    bags_graph.append(bag_node)\n",
    "print(bags_graph)"
   ]
  },
  {
   "cell_type": "code",
   "execution_count": null,
   "metadata": {},
   "outputs": [],
   "source": []
  },
  {
   "cell_type": "code",
   "execution_count": 28,
   "metadata": {},
   "outputs": [
    {
     "data": {
      "text/plain": [
       "246"
      ]
     },
     "execution_count": 28,
     "metadata": {},
     "output_type": "execute_result"
    }
   ],
   "source": [
    "# first question \n",
    "bags_graph.count_parents(Bag('shiny gold'))"
   ]
  },
  {
   "cell_type": "code",
   "execution_count": 62,
   "metadata": {},
   "outputs": [
    {
     "name": "stdout",
     "output_type": "stream",
     "text": [
      "a bright chartreuse bag {'muted gold': 1, 'dotted maroon': 1} 2\n",
      "a dark cyan bag {'dotted maroon': 3, 'vibrant red': 2} 5\n",
      "a dark salmon bag {'pale turquoise': 3, 'faded tan': 5, 'mirrored chartreuse': 1} 5075\n",
      "a dim yellow bag {'dotted chartreuse': 1} 1\n",
      "a dotted chartreuse bag {} 1\n",
      "a dotted maroon bag {} 1\n",
      "a dotted salmon bag {'dull red': 5, 'striped salmon': 2, 'dotted maroon': 5, 'shiny red': 3} 443\n",
      "a dull chartreuse bag {'mirrored black': 3, 'dotted salmon': 3, 'pale turquoise': 5} 11463\n",
      "a dull red bag {'dotted maroon': 2, 'posh salmon': 1, 'dotted chartreuse': 3, 'dim yellow': 2} 20\n",
      "a faded tan bag {'muted plum': 1, 'posh salmon': 1} 419\n",
      "a mirrored black bag {} 1\n",
      "a mirrored chartreuse bag {} 1\n",
      "a muted gold bag {} 1\n",
      "a muted plum bag {'dull red': 4, 'dotted maroon': 1, 'vibrant red': 1, 'bright chartreuse': 4} 418\n",
      "a pale turquoise bag {'vibrant red': 3} 3\n",
      "a posh salmon bag {} 1\n",
      "a shiny gold bag {'dark salmon': 5, 'wavy purple': 2, 'dark cyan': 5, 'dull chartreuse': 5} 7935597808\n",
      "a shiny red bag {'posh salmon': 4, 'dotted chartreuse': 1} 5\n",
      "a striped salmon bag {} 1\n",
      "a vibrant red bag {} 1\n",
      "a wavy purple bag {'dim yellow': 3, 'posh salmon': 1} 4\n"
     ]
    }
   ],
   "source": [
    "# second question \n",
    "p = bags_graph.dfs(Bag('shiny gold'))\n",
    "\n",
    "def sumBag(bag, _sum = 0):\n",
    "    if len(bag.content) > 0:\n",
    "        for key in bag.content:\n",
    "            # print('key => ', key)\n",
    "            _sum += sumBag(bags_graph.findBag(key), _sum) * bag.content[key] \n",
    "    else: \n",
    "        _sum = 1\n",
    "    return _sum\n",
    "\n",
    "sum = 0\n",
    "for bag in p:\n",
    "    print (bag, sumBag(bag))\n",
    "   "
   ]
  },
  {
   "cell_type": "code",
   "execution_count": 54,
   "metadata": {},
   "outputs": [
    {
     "data": {
      "text/plain": [
       "388"
      ]
     },
     "execution_count": 54,
     "metadata": {},
     "output_type": "execute_result"
    }
   ],
   "source": [
    "bags_graph.findIndex(Bag('dark salmon'))"
   ]
  },
  {
   "cell_type": "code",
   "execution_count": 55,
   "metadata": {},
   "outputs": [
    {
     "data": {
      "text/plain": [
       "[a bright chartreuse bag {'muted gold': 1, 'dotted maroon': 1},\n",
       " a dark cyan bag {'dotted maroon': 3, 'vibrant red': 2},\n",
       " a dark salmon bag {'pale turquoise': 3, 'faded tan': 5, 'mirrored chartreuse': 1},\n",
       " a dim yellow bag {'dotted chartreuse': 1},\n",
       " a dotted chartreuse bag {},\n",
       " a dotted maroon bag {},\n",
       " a dotted salmon bag {'dull red': 5, 'striped salmon': 2, 'dotted maroon': 5, 'shiny red': 3},\n",
       " a dull chartreuse bag {'mirrored black': 3, 'dotted salmon': 3, 'pale turquoise': 5},\n",
       " a dull red bag {'dotted maroon': 2, 'posh salmon': 1, 'dotted chartreuse': 3, 'dim yellow': 2},\n",
       " a faded tan bag {'muted plum': 1, 'posh salmon': 1},\n",
       " a mirrored black bag {},\n",
       " a mirrored chartreuse bag {},\n",
       " a muted gold bag {},\n",
       " a muted plum bag {'dull red': 4, 'dotted maroon': 1, 'vibrant red': 1, 'bright chartreuse': 4},\n",
       " a pale turquoise bag {'vibrant red': 3},\n",
       " a posh salmon bag {},\n",
       " a shiny gold bag {'dark salmon': 5, 'wavy purple': 2, 'dark cyan': 5, 'dull chartreuse': 5},\n",
       " a shiny red bag {'posh salmon': 4, 'dotted chartreuse': 1},\n",
       " a striped salmon bag {},\n",
       " a vibrant red bag {},\n",
       " a wavy purple bag {'dim yellow': 3, 'posh salmon': 1}]"
      ]
     },
     "execution_count": 55,
     "metadata": {},
     "output_type": "execute_result"
    }
   ],
   "source": [
    "p"
   ]
  },
  {
   "cell_type": "code",
   "execution_count": null,
   "metadata": {},
   "outputs": [],
   "source": []
  },
  {
   "cell_type": "code",
   "execution_count": null,
   "metadata": {},
   "outputs": [],
   "source": []
  }
 ],
 "metadata": {
  "kernelspec": {
   "display_name": "Python 3",
   "language": "python",
   "name": "python3"
  },
  "language_info": {
   "codemirror_mode": {
    "name": "ipython",
    "version": 3
   },
   "file_extension": ".py",
   "mimetype": "text/x-python",
   "name": "python",
   "nbconvert_exporter": "python",
   "pygments_lexer": "ipython3",
   "version": "3.8.5"
  }
 },
 "nbformat": 4,
 "nbformat_minor": 4
}
