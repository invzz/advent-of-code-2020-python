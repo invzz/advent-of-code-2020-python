{
 "metadata": {
  "language_info": {
   "codemirror_mode": {
    "name": "ipython",
    "version": 3
   },
   "file_extension": ".py",
   "mimetype": "text/x-python",
   "name": "python",
   "nbconvert_exporter": "python",
   "pygments_lexer": "ipython3",
   "version": "3.8.5-final"
  },
  "orig_nbformat": 2,
  "kernelspec": {
   "name": "Python 3.8.5 64-bit ('base': conda)",
   "display_name": "Python 3.8.5 64-bit ('base': conda)",
   "metadata": {
    "interpreter": {
     "hash": "f50bd5474255f82aa829301912ce59e29110123be660cf8d7583f66a20371684"
    }
   }
  }
 },
 "nbformat": 4,
 "nbformat_minor": 2,
 "cells": [
  {
   "source": [
    "import re\n",
    "from functools import reduce\n",
    "import pandas as pd\n",
    "\n",
    "#global\n",
    "INPUT_LOCATION = './inputs/day5.txt'\n",
    "SEPARATOR = '\\n'"
   ],
   "cell_type": "code",
   "metadata": {},
   "execution_count": 73,
   "outputs": []
  },
  {
   "cell_type": "code",
   "execution_count": 74,
   "metadata": {},
   "outputs": [],
   "source": [
    "clean_data = list(map(lambda x: x.rstrip() if len(x) > 1 else x,open(INPUT_LOCATION, 'r').readlines()))  "
   ]
  },
  {
   "cell_type": "code",
   "execution_count": 75,
   "metadata": {},
   "outputs": [],
   "source": [
    "clean_data = clean_data[0:10]"
   ]
  },
  {
   "cell_type": "code",
   "execution_count": 106,
   "metadata": {},
   "outputs": [],
   "source": [
    "# floor operator\n",
    "import math\n",
    "class Parser():\n",
    "\n",
    "    def __init__(self,input):\n",
    "        self.seats = []\n",
    "        for i in input:\n",
    "            self.seats.append(self.parse(i))\n",
    "\n",
    "    def __half(self,input): return input/2\n",
    "\n",
    "    def __select(self,el):\n",
    "       # print (el)\n",
    "        if el == 'F': self.r = self.__take_lower(self.r)\n",
    "        if el == 'B': self.r = self.__take_upper(self.r)\n",
    "        if el == 'L': self.c = self.__take_lower(self.c)\n",
    "        if el == 'R': self.c = self.__take_upper(self.c)\n",
    "        \n",
    "    \n",
    "    def __take_upper(self,r):\n",
    "        r['min'] = r['min'] + math.ceil((r['max'] - r['min']) / 2)\n",
    "        #print('upper :: ',r)\n",
    "        return r\n",
    "\n",
    "    def __take_lower(self,r):\n",
    "        r['max'] = r['min'] + math.floor((r['max'] - r['min'])/ 2)\n",
    "        # print('lower :: ',r)\n",
    "        return r\n",
    "    \n",
    "    def parse(self,input_str):\n",
    "\n",
    "\n",
    "        # row position have 7 binay chars\n",
    "        # from 0 to 2^7 possible numbers\n",
    "        self.r = {'min': 0, 'max': (2**7) - 1}\n",
    "        self.c = {'min': 0, 'max': (2**3) - 1}\n",
    "        # print(input_str)\n",
    "        # get a list of tokens to parse\n",
    "        coord = []\n",
    "        coord[:0] = input_str\n",
    "        for i,el in enumerate(coord):\n",
    "            self.__select(el)\n",
    "    \n",
    "        #print('parsing:' ,input_str , '\\tid' , self.r['min']*8+self.c['min'],'\\trow', self.r['min'],'\\tcol',self.c['min'])\n",
    "    \n",
    "        return {\n",
    "            'id': self.r['min']*8+self.c['min'], \n",
    "            'x': self.r['min'], \n",
    "            'y': self.c['min']  \n",
    "            }\n",
    "        \n",
    "        \n"
   ]
  },
  {
   "cell_type": "code",
   "execution_count": 108,
   "metadata": {},
   "outputs": [
    {
     "output_type": "stream",
     "name": "stdout",
     "text": [
      "parsing: FBBFBFBLRR \tid 427 \trow 53 \tcol 3\nparsing: FBFFFFFLLR \tid 257 \trow 32 \tcol 1\nparsing: FBBBBBBLLR \tid 505 \trow 63 \tcol 1\nparsing: FFBFBBBRLL \tid 188 \trow 23 \tcol 4\nparsing: FBBFFFFLRR \tid 387 \trow 48 \tcol 3\nparsing: BFFBFFFLLL \tid 576 \trow 72 \tcol 0\nparsing: FFBFFFFRLR \tid 133 \trow 16 \tcol 5\nparsing: FBBBBFBRLR \tid 493 \trow 61 \tcol 5\nparsing: BFBFFBBRRL \tid 670 \trow 83 \tcol 6\nparsing: FFFBBBBLLL \tid 120 \trow 15 \tcol 0\n"
     ]
    }
   ],
   "source": [
    "import pandas as pd\n",
    "p = Parser(clean_data)\n"
   ]
  },
  {
   "cell_type": "code",
   "execution_count": 90,
   "metadata": {},
   "outputs": [
    {
     "output_type": "execute_result",
     "data": {
      "text/plain": [
       "    id   x  y\n",
       "0   57   7  1\n",
       "1  257  32  1\n",
       "2  169  21  1\n",
       "3   60   7  4\n",
       "4  129  16  1\n",
       "5   64   8  0\n",
       "6  129  16  1\n",
       "7   89  11  1\n",
       "8  106  13  2\n",
       "9   40   5  0"
      ],
      "text/html": "<div>\n<style scoped>\n    .dataframe tbody tr th:only-of-type {\n        vertical-align: middle;\n    }\n\n    .dataframe tbody tr th {\n        vertical-align: top;\n    }\n\n    .dataframe thead th {\n        text-align: right;\n    }\n</style>\n<table border=\"1\" class=\"dataframe\">\n  <thead>\n    <tr style=\"text-align: right;\">\n      <th></th>\n      <th>id</th>\n      <th>x</th>\n      <th>y</th>\n    </tr>\n  </thead>\n  <tbody>\n    <tr>\n      <th>0</th>\n      <td>57</td>\n      <td>7</td>\n      <td>1</td>\n    </tr>\n    <tr>\n      <th>1</th>\n      <td>257</td>\n      <td>32</td>\n      <td>1</td>\n    </tr>\n    <tr>\n      <th>2</th>\n      <td>169</td>\n      <td>21</td>\n      <td>1</td>\n    </tr>\n    <tr>\n      <th>3</th>\n      <td>60</td>\n      <td>7</td>\n      <td>4</td>\n    </tr>\n    <tr>\n      <th>4</th>\n      <td>129</td>\n      <td>16</td>\n      <td>1</td>\n    </tr>\n    <tr>\n      <th>5</th>\n      <td>64</td>\n      <td>8</td>\n      <td>0</td>\n    </tr>\n    <tr>\n      <th>6</th>\n      <td>129</td>\n      <td>16</td>\n      <td>1</td>\n    </tr>\n    <tr>\n      <th>7</th>\n      <td>89</td>\n      <td>11</td>\n      <td>1</td>\n    </tr>\n    <tr>\n      <th>8</th>\n      <td>106</td>\n      <td>13</td>\n      <td>2</td>\n    </tr>\n    <tr>\n      <th>9</th>\n      <td>40</td>\n      <td>5</td>\n      <td>0</td>\n    </tr>\n  </tbody>\n</table>\n</div>"
     },
     "metadata": {},
     "execution_count": 90
    }
   ],
   "source": [
    "data\n"
   ]
  },
  {
   "cell_type": "code",
   "execution_count": null,
   "metadata": {},
   "outputs": [],
   "source": []
  }
 ]
}