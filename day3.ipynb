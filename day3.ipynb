{
 "metadata": {
  "language_info": {
   "codemirror_mode": {
    "name": "ipython",
    "version": 3
   },
   "file_extension": ".py",
   "mimetype": "text/x-python",
   "name": "python",
   "nbconvert_exporter": "python",
   "pygments_lexer": "ipython3",
   "version": "3.7.9-final"
  },
  "orig_nbformat": 2,
  "kernelspec": {
   "name": "python3",
   "display_name": "Python 3"
  }
 },
 "nbformat": 4,
 "nbformat_minor": 2,
 "cells": [
  {
   "source": [
    "INPUT_LOCATION = 'day3.txt'"
   ],
   "cell_type": "code",
   "metadata": {},
   "execution_count": 77,
   "outputs": []
  },
  {
   "cell_type": "code",
   "execution_count": 85,
   "metadata": {},
   "outputs": [],
   "source": [
    "# fetch data \n",
    "raw_data = open(INPUT_LOCATION, 'r').readlines()\n",
    "MAP = list(map(lambda x:  x.rstrip(),raw_data))\n",
    "MAP_WIDTH = len(MAP[0])\n",
    "MAP_HEIGHT = len(MAP)\n",
    "TREE_CHAR = '#'\n",
    "current_position = {'x': 0, 'y': 0}"
   ]
  },
  {
   "cell_type": "code",
   "execution_count": 86,
   "metadata": {},
   "outputs": [],
   "source": [
    "def _move(current_position):\n",
    "    return {'x': (current_position['x'] + 3)%ROW_WIDTH, 'y': current_position['y'] + 1}\n",
    "\n",
    "def _evaluate(current_position):\n",
    "    if MAP[current_position['y']][current_position['x']] == '#':\n",
    "        return 1\n",
    "    return 0"
   ]
  },
  {
   "cell_type": "code",
   "execution_count": 87,
   "metadata": {},
   "outputs": [],
   "source": [
    "def visitTrees(position, count):\n",
    "    if position['y'] == MAP_HEIGHT:\n",
    "        return count\n",
    "    else: \n",
    "        count += _evaluate(position)\n",
    "        visitTrees(_move(position),count)\n"
   ]
  },
  {
   "cell_type": "code",
   "execution_count": 84,
   "metadata": {},
   "outputs": [],
   "source": [
    "visitTrees(current_position,0)"
   ]
  },
  {
   "cell_type": "code",
   "execution_count": null,
   "metadata": {},
   "outputs": [],
   "source": []
  }
 ]
}