{
 "metadata": {
  "language_info": {
   "codemirror_mode": {
    "name": "ipython",
    "version": 3
   },
   "file_extension": ".py",
   "mimetype": "text/x-python",
   "name": "python",
   "nbconvert_exporter": "python",
   "pygments_lexer": "ipython3",
   "version": "3.8.6-final"
  },
  "orig_nbformat": 2,
  "kernelspec": {
   "name": "python3",
   "display_name": "Python 3"
  }
 },
 "nbformat": 4,
 "nbformat_minor": 2,
 "cells": [
  {
   "source": [
    "INPUT_LOCATION = 'day4.txt'"
   ],
   "cell_type": "code",
   "metadata": {},
   "execution_count": 1,
   "outputs": []
  },
  {
   "cell_type": "code",
   "execution_count": 2,
   "metadata": {},
   "outputs": [
    {
     "output_type": "execute_result",
     "data": {
      "text/plain": [
       "['byr:2010 pid:#1bb4d8 eyr:2021 hgt:186cm iyr:2020 ecl:grt',\n",
       " '\\n',\n",
       " 'pid:937877382 eyr:2029',\n",
       " 'ecl:amb hgt:187cm iyr:2019',\n",
       " 'byr:1933 hcl:#888785',\n",
       " '\\n',\n",
       " 'ecl:hzl',\n",
       " 'eyr:2020',\n",
       " 'hcl:#18171d',\n",
       " 'iyr:2019 hgt:183cm',\n",
       " 'byr:1935',\n",
       " '\\n',\n",
       " 'hcl:#7d3b0c hgt:183cm cid:135',\n",
       " 'byr:1992 eyr:2024 iyr:2013 pid:138000309',\n",
       " 'ecl:oth']"
      ]
     },
     "metadata": {},
     "execution_count": 2
    }
   ],
   "source": [
    "# fetch data \n",
    "raw_data = open(INPUT_LOCATION, 'r').readlines()\n",
    "clean_data = list(map(lambda x: x.rstrip() if len(x) > 1 else x,raw_data))\n",
    "clean_data[0:15]"
   ]
  },
  {
   "cell_type": "code",
   "execution_count": 3,
   "metadata": {},
   "outputs": [],
   "source": [
    "class PassportParser:\n",
    "    \n",
    "    def validate(self,data):\n",
    "        return data != '\\n'\n",
    "    \n",
    "    def __init__(self, p):\n",
    "        self.p = p\n",
    "        self.index = 0\n",
    "\n",
    "    def __iter__(self):\n",
    "        return self\n",
    "        \n",
    "    def __next__(self):\n",
    "        if self.index >= len(self.p):\n",
    "            raise StopIteration \n",
    "        result = list()\n",
    "        while(self.validate(self.p[self.index])):\n",
    "            if self.index >= 10:\n",
    "                raise StopIteration \n",
    "            result.append(self.p[self.index])\n",
    "            self.index += 1\n",
    "        return result\n"
   ]
  },
  {
   "cell_type": "code",
   "execution_count": null,
   "metadata": {},
   "outputs": [],
   "source": []
  },
  {
   "cell_type": "code",
   "execution_count": null,
   "metadata": {},
   "outputs": [],
   "source": []
  }
 ]
}