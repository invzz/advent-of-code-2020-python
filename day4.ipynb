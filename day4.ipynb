{
 "metadata": {
  "language_info": {
   "codemirror_mode": {
    "name": "ipython",
    "version": 3
   },
   "file_extension": ".py",
   "mimetype": "text/x-python",
   "name": "python",
   "nbconvert_exporter": "python",
   "pygments_lexer": "ipython3",
   "version": "3.8.6-final"
  },
  "orig_nbformat": 2,
  "kernelspec": {
   "name": "python3",
   "display_name": "Python 3"
  }
 },
 "nbformat": 4,
 "nbformat_minor": 2,
 "cells": [
  {
   "source": [
    "INPUT_LOCATION = 'day4.txt'\n",
    "SEPARATOR = '\\n'"
   ],
   "cell_type": "code",
   "metadata": {},
   "execution_count": 1,
   "outputs": []
  },
  {
   "cell_type": "code",
   "execution_count": 2,
   "metadata": {},
   "outputs": [],
   "source": [
    "# fetch data \n",
    "raw_data = open(INPUT_LOCATION, 'r').readlines()\n",
    "clean_data = list(map(lambda x: x.rstrip() if len(x) > 1 else x,raw_data))\n"
   ]
  },
  {
   "cell_type": "code",
   "execution_count": 3,
   "metadata": {},
   "outputs": [],
   "source": [
    "import re\n",
    "from functools import reduce\n",
    "\n",
    "# parse data array into an iterator which returns a \n",
    "# dict for every accepted document separated by\n",
    "# SEPARATOR:\n",
    "\n",
    "class Parser:\n",
    "\n",
    "    SEPARATOR = '\\n'\n",
    "    pattern = re.compile(r'(\\w{3}):(\\S*)')\n",
    "    \n",
    "    def validate(self,data):\n",
    "        return data != SEPARATOR\n",
    "\n",
    "    def __init__(self, p):\n",
    "        self.p = p\n",
    "        self.index = 0\n",
    "        self.current = []\n",
    "        \n",
    "    def __iter__(self):\n",
    "        return self\n",
    "        \n",
    "    def __next__(self):\n",
    "        \n",
    "        self.current = []\n",
    "        \n",
    "        if (not self.validate(self.p[self.index])):\n",
    "            self.index += 1\n",
    "            if self.index == len(self.p):\n",
    "               raise StopIteration \n",
    "        \n",
    "        while True:\n",
    "            if (not self.validate(self.p[self.index])):\n",
    "                break\n",
    "            self.current.append(self.p[self.index])\n",
    "            self.index += 1\n",
    "            if self.index == len(self.p):\n",
    "                raise StopIteration \n",
    "        \n",
    "        list_tuples = self.pattern.findall(\" \".join(self.current))\n",
    "        list_dict = list( map(lambda x: {x[0]: x[1]}, list_tuples))\n",
    "        res_dict = reduce(lambda x, y: {**x, **y}, list_dict)\n",
    "        return  res_dict\n"
   ]
  },
  {
   "cell_type": "code",
   "execution_count": 4,
   "metadata": {},
   "outputs": [],
   "source": [
    " # # check data and iterator\n",
    " # passports = iter(Parser(clean_data))\n",
    " # for pas in enumerate(passports):\n",
    " #    print(pas)"
   ]
  },
  {
   "source": [
    "# valid passports  (Question 1)\n",
    "def valid_fields_passports(data):\n",
    "    valid_pas = list()\n",
    "    passports = iter(Parser(data))\n",
    "    keys = [\n",
    "        'byr', \n",
    "        'iyr', \n",
    "        'eyr', \n",
    "        'hgt', \n",
    "        'hcl', \n",
    "        'ecl', \n",
    "        'pid', \n",
    "        # 'cid'\n",
    "        ]\n",
    "\n",
    "   \n",
    "\n",
    "    for index, pas in enumerate(passports):\n",
    "        # print('[*KO ]::', count, index)\n",
    "        if len(pas) > 6 : \n",
    "            if all (k in pas.keys() for k in keys):\n",
    "                valid_pas.append(pas) \n",
    "                # print('[ OK ]::', count,index )\n",
    "           \n",
    "                # print('[*KO ]::', count, index)\n",
    "\n",
    "    return valid_pas"
   ],
   "cell_type": "code",
   "metadata": {
    "tags": []
   },
   "execution_count": 5,
   "outputs": []
  },
  {
   "cell_type": "code",
   "execution_count": 44,
   "metadata": {},
   "outputs": [],
   "source": [
    "# valid passports  (Question 2)\n",
    "def filter_rules(passport):\n",
    "    \n",
    "    # height rule too long for 1 line\n",
    "    hgt = False \n",
    "    height = re.search(r'([0-9]+)([a-z]{2})',passport['hgt'])\n",
    "    if(height != None):\n",
    "       um = height.group(2)\n",
    "       height = int(height.group(1))\n",
    "       if um == 'cm': hgt =  height < 193 and height > 150\n",
    "       elif um == 'in': hgt =  height < 76 and height > 59 \n",
    "    \n",
    "      \n",
    "    rules = {\n",
    "        'byr': int(passport['byr']) > 1920 and int(passport['byr']) < 2008,\n",
    "        'iyr': int(passport['iyr']) > 2010 and int(passport['iyr']) < 2020,\n",
    "        'eyr': int(passport['eyr']) > 2020 and int(passport['eyr']) < 2030,\n",
    "        'hgt': hgt,   \n",
    "        'hcl': re.search(r'#[0-9a-f]{6}',passport['hcl']) != None,\n",
    "        'ecl': passport['ecl'] in ['amb', 'blu', 'brn', 'gry', 'grn', 'hzl', 'oth'],\n",
    "        'pid': re.search(r'[0-9]{9}',passport['pid']) != None,\n",
    "        }\n",
    "         \n",
    "\n",
    "    if all(value == True for value in rules.values()):\n",
    "        return True  \n",
    "    \n",
    "    return False\n",
    "    \n",
    "\n",
    "def valid_passports(data):\n",
    "    return list(filter(lambda x: filter_rules(x),  valid_fields_passports(data)))"
   ]
  },
  {
   "cell_type": "code",
   "execution_count": 45,
   "metadata": {
    "tags": []
   },
   "outputs": [
    {
     "output_type": "stream",
     "name": "stdout",
     "text": [
      "213 passports have required fields.\n89 are valid passports.\n"
     ]
    }
   ],
   "source": [
    "# count data\n",
    "print(len(valid_fields_passports(clean_data)), 'passports have required fields.')\n",
    "print(len(valid_passports(clean_data)), 'are valid passports.')"
   ]
  },
  {
   "cell_type": "code",
   "execution_count": null,
   "metadata": {},
   "outputs": [],
   "source": []
  }
 ]
}