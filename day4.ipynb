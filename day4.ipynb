{
 "metadata": {
  "language_info": {
   "codemirror_mode": {
    "name": "ipython",
    "version": 3
   },
   "file_extension": ".py",
   "mimetype": "text/x-python",
   "name": "python",
   "nbconvert_exporter": "python",
   "pygments_lexer": "ipython3",
   "version": "3.8.5-final"
  },
  "orig_nbformat": 2,
  "kernelspec": {
   "name": "Python 3.8.5 64-bit ('base': conda)",
   "display_name": "Python 3.8.5 64-bit ('base': conda)",
   "metadata": {
    "interpreter": {
     "hash": "f50bd5474255f82aa829301912ce59e29110123be660cf8d7583f66a20371684"
    }
   }
  }
 },
 "nbformat": 4,
 "nbformat_minor": 2,
 "cells": [
  {
   "source": [
    "import re\n",
    "from functools import reduce\n",
    "import pandas as pd\n",
    "\n",
    "#global\n",
    "INPUT_LOCATION = 'day4.txt'\n",
    "SEPARATOR = '\\n'"
   ],
   "cell_type": "code",
   "metadata": {},
   "execution_count": 155,
   "outputs": []
  },
  {
   "cell_type": "code",
   "execution_count": 156,
   "metadata": {},
   "outputs": [],
   "source": [
    "clean_data = list(map(lambda x: x.rstrip() if len(x) > 1 else x,open(INPUT_LOCATION, 'r').readlines()))  "
   ]
  },
  {
   "source": [
    "# all passport iterator\n",
    "class Passporter:\n",
    "    keys = [ 'byr', 'iyr', 'eyr', 'hgt', 'hcl', 'ecl', 'pid', \n",
    "    # 'cid' is ignored\n",
    "    ]\n",
    "    data_format = re.compile(r'(\\w{3}):(\\S*)')\n",
    "    \n",
    "    def __init__(self, p):\n",
    "        self.p = p\n",
    "        self.index = 0\n",
    "        self.current = []\n",
    "    \n",
    "    def __iter__(self):\n",
    "        self.index = 0\n",
    "        return self\n",
    "    \n",
    "    def __next__(self):\n",
    "        # l = 100\n",
    "        l = len(self.p)\n",
    "        if self.index == l:\n",
    "            raise StopIteration \n",
    "        self.current = []\n",
    "        \n",
    "        while (self.p[self.index] != SEPARATOR):\n",
    "            self.current.append(self.p[self.index])\n",
    "            self.index += 1\n",
    "            if self.index == l:\n",
    "                raise StopIteration \n",
    "        \n",
    "        if len(self.current) > 0:\n",
    "            list_tuples = self.data_format.findall(\" \".join(self.current))\n",
    "            list_dict = list( map(lambda x: {x[0]: x[1]}, list_tuples))\n",
    "            pas = reduce(lambda x, y: {**x, **y}, list_dict)\n",
    "            return pas\n",
    "        self.index += 1\n",
    "        return self.__next__()\n"
   ],
   "cell_type": "code",
   "metadata": {},
   "execution_count": 157,
   "outputs": []
  },
  {
   "cell_type": "code",
   "execution_count": 158,
   "metadata": {},
   "outputs": [
    {
     "output_type": "execute_result",
     "data": {
      "text/plain": [
       "      byr        pid   eyr    hgt   iyr  ecl      hcl  cid\n",
       "0    2010    #1bb4d8  2021  186cm  2020  grt      NaN  NaN\n",
       "1    1933  937877382  2029  187cm  2019  amb  #888785  NaN\n",
       "2    1935        NaN  2020  183cm  2019  hzl  #18171d  NaN\n",
       "3    1992  138000309  2024  183cm  2013  oth  #7d3b0c  135\n",
       "4    1929  346059944  1924  176cm  2016  hzl  #fffffd  150\n",
       "..    ...        ...   ...    ...   ...  ...      ...  ...\n",
       "274  1951  866047540  2030   64in  2014  amb  #733820   59\n",
       "275  1962  671492881  2023   69in  2015  brn  #623a2f  NaN\n",
       "276  1950  924256973  2028  154cm  2020  oth  #b6652a  NaN\n",
       "277  2021   76948864  2036    116  1930  NaN        z  348\n",
       "278  1960  720786216  2028  156cm  2014  gry  #a97842   99\n",
       "\n",
       "[279 rows x 8 columns]"
      ],
      "text/html": "<div>\n<style scoped>\n    .dataframe tbody tr th:only-of-type {\n        vertical-align: middle;\n    }\n\n    .dataframe tbody tr th {\n        vertical-align: top;\n    }\n\n    .dataframe thead th {\n        text-align: right;\n    }\n</style>\n<table border=\"1\" class=\"dataframe\">\n  <thead>\n    <tr style=\"text-align: right;\">\n      <th></th>\n      <th>byr</th>\n      <th>pid</th>\n      <th>eyr</th>\n      <th>hgt</th>\n      <th>iyr</th>\n      <th>ecl</th>\n      <th>hcl</th>\n      <th>cid</th>\n    </tr>\n  </thead>\n  <tbody>\n    <tr>\n      <th>0</th>\n      <td>2010</td>\n      <td>#1bb4d8</td>\n      <td>2021</td>\n      <td>186cm</td>\n      <td>2020</td>\n      <td>grt</td>\n      <td>NaN</td>\n      <td>NaN</td>\n    </tr>\n    <tr>\n      <th>1</th>\n      <td>1933</td>\n      <td>937877382</td>\n      <td>2029</td>\n      <td>187cm</td>\n      <td>2019</td>\n      <td>amb</td>\n      <td>#888785</td>\n      <td>NaN</td>\n    </tr>\n    <tr>\n      <th>2</th>\n      <td>1935</td>\n      <td>NaN</td>\n      <td>2020</td>\n      <td>183cm</td>\n      <td>2019</td>\n      <td>hzl</td>\n      <td>#18171d</td>\n      <td>NaN</td>\n    </tr>\n    <tr>\n      <th>3</th>\n      <td>1992</td>\n      <td>138000309</td>\n      <td>2024</td>\n      <td>183cm</td>\n      <td>2013</td>\n      <td>oth</td>\n      <td>#7d3b0c</td>\n      <td>135</td>\n    </tr>\n    <tr>\n      <th>4</th>\n      <td>1929</td>\n      <td>346059944</td>\n      <td>1924</td>\n      <td>176cm</td>\n      <td>2016</td>\n      <td>hzl</td>\n      <td>#fffffd</td>\n      <td>150</td>\n    </tr>\n    <tr>\n      <th>...</th>\n      <td>...</td>\n      <td>...</td>\n      <td>...</td>\n      <td>...</td>\n      <td>...</td>\n      <td>...</td>\n      <td>...</td>\n      <td>...</td>\n    </tr>\n    <tr>\n      <th>274</th>\n      <td>1951</td>\n      <td>866047540</td>\n      <td>2030</td>\n      <td>64in</td>\n      <td>2014</td>\n      <td>amb</td>\n      <td>#733820</td>\n      <td>59</td>\n    </tr>\n    <tr>\n      <th>275</th>\n      <td>1962</td>\n      <td>671492881</td>\n      <td>2023</td>\n      <td>69in</td>\n      <td>2015</td>\n      <td>brn</td>\n      <td>#623a2f</td>\n      <td>NaN</td>\n    </tr>\n    <tr>\n      <th>276</th>\n      <td>1950</td>\n      <td>924256973</td>\n      <td>2028</td>\n      <td>154cm</td>\n      <td>2020</td>\n      <td>oth</td>\n      <td>#b6652a</td>\n      <td>NaN</td>\n    </tr>\n    <tr>\n      <th>277</th>\n      <td>2021</td>\n      <td>76948864</td>\n      <td>2036</td>\n      <td>116</td>\n      <td>1930</td>\n      <td>NaN</td>\n      <td>z</td>\n      <td>348</td>\n    </tr>\n    <tr>\n      <th>278</th>\n      <td>1960</td>\n      <td>720786216</td>\n      <td>2028</td>\n      <td>156cm</td>\n      <td>2014</td>\n      <td>gry</td>\n      <td>#a97842</td>\n      <td>99</td>\n    </tr>\n  </tbody>\n</table>\n<p>279 rows × 8 columns</p>\n</div>"
     },
     "metadata": {},
     "execution_count": 158
    }
   ],
   "source": [
    "p = pd.DataFrame(iter(Passporter(clean_data)))\n",
    "p"
   ]
  },
  {
   "cell_type": "code",
   "execution_count": 159,
   "metadata": {},
   "outputs": [],
   "source": [
    "# iteraror which returns passport with valid fields only\n",
    "class ValidFieldIterator(Passporter):\n",
    "   def __next__(self):\n",
    "       pas = super().__next__()\n",
    "       if all(k in pas.keys() for k in self.keys):\n",
    "           return pas\n",
    "       return self.__next__()"
   ]
  },
  {
   "cell_type": "code",
   "execution_count": 164,
   "metadata": {},
   "outputs": [],
   "source": [
    "# iterator which returns valid fields and accepted values\n",
    "class ValidValuesIterator(ValidFieldIterator):\n",
    "    HCL_PATTERN = r'^#[\\w\\d]{6}$'\n",
    "    PID_PATTERN = r'^[0-9]{9}$'\n",
    "    EYECOLOR_PATTERN = ['amb', 'blu', 'brn', 'gry', 'grn', 'hzl', 'oth']\n",
    "\n",
    "    def is_beetween(self,data,min,max,um=''):\n",
    "        data=int(data)\n",
    "        if data >= min and data <= max : \n",
    "            return True\n",
    "        return False    \n",
    "\n",
    "    def chk_pattern(self, pattern, data, dataname = ''):\n",
    "        match = re.search(pattern, data)\n",
    "        if (match == None):\n",
    "            # print('**KO ==> ', data )\n",
    "            return False\n",
    "        # print('OK ==> ', data )\n",
    "        return True\n",
    "    \n",
    "    def chk_hgt(self,hgt):\n",
    "        try:\n",
    "            height = re.search(r'([0-9]+)(cm|in)',hgt)\n",
    "            if height.group(2) == 'cm': \n",
    "                return self.is_beetween(int(height.group(1)),150,193,'cm')\n",
    "            if height.group(2) == 'in': \n",
    "                return self.is_beetween(int(height.group(1)),59,76,'in')\n",
    "        except:\n",
    "            return False\n",
    "    \n",
    "    def __next__(self):\n",
    "        p = super().__next__()\n",
    "        rules = [\n",
    "                    self.chk_pattern(self.HCL_PATTERN, p['hcl'],'hcl'),\n",
    "                    self.chk_pattern(self.PID_PATTERN, p['pid'],'pid'),\n",
    "                    p['ecl'] in self.EYECOLOR_PATTERN,\n",
    "                    self.is_beetween(p['byr'], 1920, 2002, 'byr'),\n",
    "                    self.is_beetween(p['iyr'], 2010, 2020, 'iyr'),\n",
    "                    self.is_beetween(p['eyr'], 2020, 2030, 'eyr'),\n",
    "                    self.chk_hgt(p['hgt']),   \n",
    "            ]\n",
    "        if all(value for value in rules):\n",
    "            return p\n",
    "        \n",
    "        else: return self.__next__()\n"
   ]
  },
  {
   "cell_type": "code",
   "execution_count": 160,
   "metadata": {},
   "outputs": [
    {
     "output_type": "execute_result",
     "data": {
      "text/plain": [
       "           pid   eyr  ecl    hgt   iyr   byr      hcl  cid\n",
       "0    937877382  2029  amb  187cm  2019  1933  #888785  NaN\n",
       "1    138000309  2024  oth  183cm  2013  1992  #7d3b0c  135\n",
       "2    346059944  1924  hzl  176cm  2016  1929  #fffffd  150\n",
       "3    897123249  2030  amb  165cm  2011  1948  #18171d   99\n",
       "4    827609097  2029  gry   72in  2017  1963  #cfa07d  NaN\n",
       "..         ...   ...  ...    ...   ...   ...      ...  ...\n",
       "208   15714997  1993  blu   64cm  2020  1995  #b6652a  NaN\n",
       "209  866047540  2030  amb   64in  2014  1951  #733820   59\n",
       "210  671492881  2023  brn   69in  2015  1962  #623a2f  NaN\n",
       "211  924256973  2028  oth  154cm  2020  1950  #b6652a  NaN\n",
       "212  720786216  2028  gry  156cm  2014  1960  #a97842   99\n",
       "\n",
       "[213 rows x 8 columns]"
      ],
      "text/html": "<div>\n<style scoped>\n    .dataframe tbody tr th:only-of-type {\n        vertical-align: middle;\n    }\n\n    .dataframe tbody tr th {\n        vertical-align: top;\n    }\n\n    .dataframe thead th {\n        text-align: right;\n    }\n</style>\n<table border=\"1\" class=\"dataframe\">\n  <thead>\n    <tr style=\"text-align: right;\">\n      <th></th>\n      <th>pid</th>\n      <th>eyr</th>\n      <th>ecl</th>\n      <th>hgt</th>\n      <th>iyr</th>\n      <th>byr</th>\n      <th>hcl</th>\n      <th>cid</th>\n    </tr>\n  </thead>\n  <tbody>\n    <tr>\n      <th>0</th>\n      <td>937877382</td>\n      <td>2029</td>\n      <td>amb</td>\n      <td>187cm</td>\n      <td>2019</td>\n      <td>1933</td>\n      <td>#888785</td>\n      <td>NaN</td>\n    </tr>\n    <tr>\n      <th>1</th>\n      <td>138000309</td>\n      <td>2024</td>\n      <td>oth</td>\n      <td>183cm</td>\n      <td>2013</td>\n      <td>1992</td>\n      <td>#7d3b0c</td>\n      <td>135</td>\n    </tr>\n    <tr>\n      <th>2</th>\n      <td>346059944</td>\n      <td>1924</td>\n      <td>hzl</td>\n      <td>176cm</td>\n      <td>2016</td>\n      <td>1929</td>\n      <td>#fffffd</td>\n      <td>150</td>\n    </tr>\n    <tr>\n      <th>3</th>\n      <td>897123249</td>\n      <td>2030</td>\n      <td>amb</td>\n      <td>165cm</td>\n      <td>2011</td>\n      <td>1948</td>\n      <td>#18171d</td>\n      <td>99</td>\n    </tr>\n    <tr>\n      <th>4</th>\n      <td>827609097</td>\n      <td>2029</td>\n      <td>gry</td>\n      <td>72in</td>\n      <td>2017</td>\n      <td>1963</td>\n      <td>#cfa07d</td>\n      <td>NaN</td>\n    </tr>\n    <tr>\n      <th>...</th>\n      <td>...</td>\n      <td>...</td>\n      <td>...</td>\n      <td>...</td>\n      <td>...</td>\n      <td>...</td>\n      <td>...</td>\n      <td>...</td>\n    </tr>\n    <tr>\n      <th>208</th>\n      <td>15714997</td>\n      <td>1993</td>\n      <td>blu</td>\n      <td>64cm</td>\n      <td>2020</td>\n      <td>1995</td>\n      <td>#b6652a</td>\n      <td>NaN</td>\n    </tr>\n    <tr>\n      <th>209</th>\n      <td>866047540</td>\n      <td>2030</td>\n      <td>amb</td>\n      <td>64in</td>\n      <td>2014</td>\n      <td>1951</td>\n      <td>#733820</td>\n      <td>59</td>\n    </tr>\n    <tr>\n      <th>210</th>\n      <td>671492881</td>\n      <td>2023</td>\n      <td>brn</td>\n      <td>69in</td>\n      <td>2015</td>\n      <td>1962</td>\n      <td>#623a2f</td>\n      <td>NaN</td>\n    </tr>\n    <tr>\n      <th>211</th>\n      <td>924256973</td>\n      <td>2028</td>\n      <td>oth</td>\n      <td>154cm</td>\n      <td>2020</td>\n      <td>1950</td>\n      <td>#b6652a</td>\n      <td>NaN</td>\n    </tr>\n    <tr>\n      <th>212</th>\n      <td>720786216</td>\n      <td>2028</td>\n      <td>gry</td>\n      <td>156cm</td>\n      <td>2014</td>\n      <td>1960</td>\n      <td>#a97842</td>\n      <td>99</td>\n    </tr>\n  </tbody>\n</table>\n<p>213 rows × 8 columns</p>\n</div>"
     },
     "metadata": {},
     "execution_count": 160
    }
   ],
   "source": [
    "# passports with valid fields\n",
    "pd.DataFrame(ValidFieldIterator(clean_data))"
   ]
  },
  {
   "cell_type": "code",
   "execution_count": 165,
   "metadata": {},
   "outputs": [
    {
     "output_type": "execute_result",
     "data": {
      "text/plain": [
       "           pid   eyr  ecl    hgt   iyr   byr      hcl  cid\n",
       "0    937877382  2029  amb  187cm  2019  1933  #888785  NaN\n",
       "1    138000309  2024  oth  183cm  2013  1992  #7d3b0c  135\n",
       "2    897123249  2030  amb  165cm  2011  1948  #18171d   99\n",
       "3    827609097  2029  gry   72in  2017  1963  #cfa07d  NaN\n",
       "4    432183209  2028  hzl  152cm  2016  1984  #6b5442  NaN\n",
       "..         ...   ...  ...    ...   ...   ...      ...  ...\n",
       "142  802041641  2028  brn  184cm  2013  1969  #c0946f  NaN\n",
       "143  866047540  2030  amb   64in  2014  1951  #733820   59\n",
       "144  671492881  2023  brn   69in  2015  1962  #623a2f  NaN\n",
       "145  924256973  2028  oth  154cm  2020  1950  #b6652a  NaN\n",
       "146  720786216  2028  gry  156cm  2014  1960  #a97842   99\n",
       "\n",
       "[147 rows x 8 columns]"
      ],
      "text/html": "<div>\n<style scoped>\n    .dataframe tbody tr th:only-of-type {\n        vertical-align: middle;\n    }\n\n    .dataframe tbody tr th {\n        vertical-align: top;\n    }\n\n    .dataframe thead th {\n        text-align: right;\n    }\n</style>\n<table border=\"1\" class=\"dataframe\">\n  <thead>\n    <tr style=\"text-align: right;\">\n      <th></th>\n      <th>pid</th>\n      <th>eyr</th>\n      <th>ecl</th>\n      <th>hgt</th>\n      <th>iyr</th>\n      <th>byr</th>\n      <th>hcl</th>\n      <th>cid</th>\n    </tr>\n  </thead>\n  <tbody>\n    <tr>\n      <th>0</th>\n      <td>937877382</td>\n      <td>2029</td>\n      <td>amb</td>\n      <td>187cm</td>\n      <td>2019</td>\n      <td>1933</td>\n      <td>#888785</td>\n      <td>NaN</td>\n    </tr>\n    <tr>\n      <th>1</th>\n      <td>138000309</td>\n      <td>2024</td>\n      <td>oth</td>\n      <td>183cm</td>\n      <td>2013</td>\n      <td>1992</td>\n      <td>#7d3b0c</td>\n      <td>135</td>\n    </tr>\n    <tr>\n      <th>2</th>\n      <td>897123249</td>\n      <td>2030</td>\n      <td>amb</td>\n      <td>165cm</td>\n      <td>2011</td>\n      <td>1948</td>\n      <td>#18171d</td>\n      <td>99</td>\n    </tr>\n    <tr>\n      <th>3</th>\n      <td>827609097</td>\n      <td>2029</td>\n      <td>gry</td>\n      <td>72in</td>\n      <td>2017</td>\n      <td>1963</td>\n      <td>#cfa07d</td>\n      <td>NaN</td>\n    </tr>\n    <tr>\n      <th>4</th>\n      <td>432183209</td>\n      <td>2028</td>\n      <td>hzl</td>\n      <td>152cm</td>\n      <td>2016</td>\n      <td>1984</td>\n      <td>#6b5442</td>\n      <td>NaN</td>\n    </tr>\n    <tr>\n      <th>...</th>\n      <td>...</td>\n      <td>...</td>\n      <td>...</td>\n      <td>...</td>\n      <td>...</td>\n      <td>...</td>\n      <td>...</td>\n      <td>...</td>\n    </tr>\n    <tr>\n      <th>142</th>\n      <td>802041641</td>\n      <td>2028</td>\n      <td>brn</td>\n      <td>184cm</td>\n      <td>2013</td>\n      <td>1969</td>\n      <td>#c0946f</td>\n      <td>NaN</td>\n    </tr>\n    <tr>\n      <th>143</th>\n      <td>866047540</td>\n      <td>2030</td>\n      <td>amb</td>\n      <td>64in</td>\n      <td>2014</td>\n      <td>1951</td>\n      <td>#733820</td>\n      <td>59</td>\n    </tr>\n    <tr>\n      <th>144</th>\n      <td>671492881</td>\n      <td>2023</td>\n      <td>brn</td>\n      <td>69in</td>\n      <td>2015</td>\n      <td>1962</td>\n      <td>#623a2f</td>\n      <td>NaN</td>\n    </tr>\n    <tr>\n      <th>145</th>\n      <td>924256973</td>\n      <td>2028</td>\n      <td>oth</td>\n      <td>154cm</td>\n      <td>2020</td>\n      <td>1950</td>\n      <td>#b6652a</td>\n      <td>NaN</td>\n    </tr>\n    <tr>\n      <th>146</th>\n      <td>720786216</td>\n      <td>2028</td>\n      <td>gry</td>\n      <td>156cm</td>\n      <td>2014</td>\n      <td>1960</td>\n      <td>#a97842</td>\n      <td>99</td>\n    </tr>\n  </tbody>\n</table>\n<p>147 rows × 8 columns</p>\n</div>"
     },
     "metadata": {},
     "execution_count": 165
    }
   ],
   "source": [
    "# valid values iterator\n",
    "valid = pd.DataFrame(ValidValuesIterator(clean_data))"
   ]
  }
 ]
}