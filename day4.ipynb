{
 "metadata": {
  "language_info": {
   "codemirror_mode": {
    "name": "ipython",
    "version": 3
   },
   "file_extension": ".py",
   "mimetype": "text/x-python",
   "name": "python",
   "nbconvert_exporter": "python",
   "pygments_lexer": "ipython3",
   "version": "3.8.5-final"
  },
  "orig_nbformat": 2,
  "kernelspec": {
   "name": "Python 3.8.5 64-bit ('base': conda)",
   "display_name": "Python 3.8.5 64-bit ('base': conda)",
   "metadata": {
    "interpreter": {
     "hash": "f50bd5474255f82aa829301912ce59e29110123be660cf8d7583f66a20371684"
    }
   }
  }
 },
 "nbformat": 4,
 "nbformat_minor": 2,
 "cells": [
  {
   "source": [
    "import re\n",
    "from functools import reduce\n",
    "import pandas as pd\n",
    "\n",
    "#global\n",
    "INPUT_LOCATION = 'day4.txt'\n",
    "SEPARATOR = '\\n'"
   ],
   "cell_type": "code",
   "metadata": {},
   "execution_count": 1,
   "outputs": []
  },
  {
   "cell_type": "code",
   "execution_count": 2,
   "metadata": {},
   "outputs": [],
   "source": [
    "clean_data = list(map(lambda x: x.rstrip() if len(x) > 1 else x,open(INPUT_LOCATION, 'r').readlines()))  "
   ]
  },
  {
   "source": [
    "#passport iterator\n",
    "class Passporter:\n",
    "    \n",
    "    \n",
    "    keys = [ 'byr', 'iyr', 'eyr', 'hgt', 'hcl', 'ecl', 'pid', \n",
    "    # 'cid' is ignored\n",
    "    ]\n",
    "    data_format = re.compile(r'(\\w{3}):(\\S*)')\n",
    "    \n",
    "    def __init__(self, p):\n",
    "        self.p = p\n",
    "        self.index = 0\n",
    "        self.current = []\n",
    "    \n",
    "    def __iter__(self):\n",
    "        self.index = 0\n",
    "        return self\n",
    "    \n",
    "    def __next__(self):\n",
    "        if self.index == len(self.p):\n",
    "            raise StopIteration \n",
    "        self.current = []\n",
    "        \n",
    "        while (self.p[self.index] != SEPARATOR):\n",
    "            self.current.append(self.p[self.index])\n",
    "            self.index += 1\n",
    "            if self.index == len(self.p):\n",
    "                raise StopIteration \n",
    "        \n",
    "        if len(self.current) > 0:\n",
    "            list_tuples = self.data_format.findall(\" \".join(self.current))\n",
    "            list_dict = list( map(lambda x: {x[0]: x[1]}, list_tuples))\n",
    "            pas = reduce(lambda x, y: {**x, **y}, list_dict)\n",
    "            return pas\n",
    "        self.index += 1\n",
    "        return self.__next__()\n"
   ],
   "cell_type": "code",
   "metadata": {},
   "execution_count": 3,
   "outputs": []
  },
  {
   "cell_type": "code",
   "execution_count": 4,
   "metadata": {},
   "outputs": [
    {
     "output_type": "execute_result",
     "data": {
      "text/plain": [
       "(279, 8)"
      ]
     },
     "metadata": {},
     "execution_count": 4
    }
   ],
   "source": [
    "p = pd.DataFrame(iter(Passporter(clean_data)))\n",
    "p.shape"
   ]
  },
  {
   "cell_type": "code",
   "execution_count": 5,
   "metadata": {},
   "outputs": [],
   "source": [
    "\n",
    "# iteraror which returns passport with valid fields only\n",
    "class ValidFieldIterator(Passporter):\n",
    "   def __next__(self):\n",
    "        pas = super().__next__()\n",
    "        if len(pas) > 6 : \n",
    "            if all (k in pas.keys() for k in self.keys):\n",
    "                return  pas\n",
    "        return self.__next__()"
   ]
  },
  {
   "cell_type": "code",
   "execution_count": 6,
   "metadata": {},
   "outputs": [
    {
     "output_type": "execute_result",
     "data": {
      "text/plain": [
       "(213, 8)"
      ]
     },
     "metadata": {},
     "execution_count": 6
    }
   ],
   "source": [
    "p = pd.DataFrame(iter(ValidFieldIterator(clean_data)))\n",
    "p.shape"
   ]
  },
  {
   "source": [
    "# iteraror which returns passport with valid values only\n",
    "class ValidValuesIterator(ValidFieldIterator):\n",
    "    HCL_PATTERN = r'#[\\w\\d]{6}'\n",
    "    PID_PATTERN = r'\\d{9}'\n",
    "    EYECOLOR_PATTERN = ['amb', 'blu', 'brn', 'gry', 'grn', 'hzl', 'oth']\n",
    "    LOG = []\n",
    "\n",
    "    def __apply_rules__(self, passport):\n",
    "        rules = [\n",
    "                self.chk_pattern(self.HCL_PATTERN, passport['hcl'],'hcl') != None,\n",
    "                self.chk_pattern(self.PID_PATTERN,passport['pid'],'pid') != None,\n",
    "                passport['ecl'] in self.EYECOLOR_PATTERN,\n",
    "                self.is_beetween(passport['byr'], 1920, 2002, 'byr'),\n",
    "                self.is_beetween(passport['iyr'], 2010, 2020, 'iyr'),\n",
    "                self.is_beetween(passport['eyr'], 2020, 2030, 'eyr'),\n",
    "                self.chk_hgt(passport['hgt']),   \n",
    "        ]\n",
    "\n",
    "        if all(value == True for value in rules):\n",
    "            return True\n",
    "        return False\n",
    "\n",
    "    def is_beetween(self,data,min,max,um=''):\n",
    "            data=int(data)\n",
    "            if data >= min and data <= max : return True\n",
    "            self.log(um ,'out of bound', data )\n",
    "            return False    \n",
    "\n",
    "    def chk_pattern(self, pattern, data, dataname = ''):\n",
    "        match = re.search(pattern, data)\n",
    "        if (match == None):\n",
    "            self.log(dataname ,'invalid format', data )\n",
    "            return False\n",
    "        return True\n",
    "    \n",
    "    def log(self, dataname, message, data='', verbose = False):\n",
    "        self.LOG.append({'file index': self.index,'error': message, 'dataname':dataname,'data':data})\n",
    "        if(verbose):\n",
    "            print('[', self.index,  dataname ,']\\t::',message,'\\t::', data )\n",
    "\n",
    "\n",
    "\n",
    "    def chk_hgt(self,hgt):\n",
    "        try:\n",
    "            height = re.search(r'([0-9]+)(cm|in)',hgt)\n",
    "            if height.group(2) == 'cm': \n",
    "                return self.is_beetween(int(height.group(1)),150,193,'cm')\n",
    "            if height.group(2) == 'in': \n",
    "                return self.is_beetween(int(height.group(1)),59,76,'in')\n",
    "        except:\n",
    "            self.log('hgt','invalid format',hgt)\n",
    "        return False\n",
    "\n",
    "    def __next__(self):\n",
    "        pas = super().__next__()\n",
    "        if self.__apply_rules__(pas) : \n",
    "            return  pas\n",
    "        return self.__next__()"
   ],
   "cell_type": "code",
   "metadata": {
    "tags": []
   },
   "execution_count": 50,
   "outputs": []
  },
  {
   "cell_type": "code",
   "execution_count": 57,
   "metadata": {},
   "outputs": [],
   "source": [
    "p = iter(ValidValuesIterator(clean_data))"
   ]
  },
  {
   "cell_type": "code",
   "execution_count": 58,
   "metadata": {},
   "outputs": [
    {
     "output_type": "execute_result",
     "data": {
      "text/plain": [
       "     file index           error dataname      data\n",
       "0            18    out of bound      eyr      1924\n",
       "1            36    out of bound       cm        64\n",
       "2            62  invalid format      pid   #430c70\n",
       "3            62    out of bound       cm        75\n",
       "4            68  invalid format      hcl         z\n",
       "..          ...             ...      ...       ...\n",
       "616        1034    out of bound      iyr      2028\n",
       "617        1034    out of bound      eyr      1960\n",
       "618        1043  invalid format      pid  15714997\n",
       "619        1043    out of bound      eyr      1993\n",
       "620        1043    out of bound       cm        64\n",
       "\n",
       "[621 rows x 4 columns]"
      ],
      "text/html": "<div>\n<style scoped>\n    .dataframe tbody tr th:only-of-type {\n        vertical-align: middle;\n    }\n\n    .dataframe tbody tr th {\n        vertical-align: top;\n    }\n\n    .dataframe thead th {\n        text-align: right;\n    }\n</style>\n<table border=\"1\" class=\"dataframe\">\n  <thead>\n    <tr style=\"text-align: right;\">\n      <th></th>\n      <th>file index</th>\n      <th>error</th>\n      <th>dataname</th>\n      <th>data</th>\n    </tr>\n  </thead>\n  <tbody>\n    <tr>\n      <th>0</th>\n      <td>18</td>\n      <td>out of bound</td>\n      <td>eyr</td>\n      <td>1924</td>\n    </tr>\n    <tr>\n      <th>1</th>\n      <td>36</td>\n      <td>out of bound</td>\n      <td>cm</td>\n      <td>64</td>\n    </tr>\n    <tr>\n      <th>2</th>\n      <td>62</td>\n      <td>invalid format</td>\n      <td>pid</td>\n      <td>#430c70</td>\n    </tr>\n    <tr>\n      <th>3</th>\n      <td>62</td>\n      <td>out of bound</td>\n      <td>cm</td>\n      <td>75</td>\n    </tr>\n    <tr>\n      <th>4</th>\n      <td>68</td>\n      <td>invalid format</td>\n      <td>hcl</td>\n      <td>z</td>\n    </tr>\n    <tr>\n      <th>...</th>\n      <td>...</td>\n      <td>...</td>\n      <td>...</td>\n      <td>...</td>\n    </tr>\n    <tr>\n      <th>616</th>\n      <td>1034</td>\n      <td>out of bound</td>\n      <td>iyr</td>\n      <td>2028</td>\n    </tr>\n    <tr>\n      <th>617</th>\n      <td>1034</td>\n      <td>out of bound</td>\n      <td>eyr</td>\n      <td>1960</td>\n    </tr>\n    <tr>\n      <th>618</th>\n      <td>1043</td>\n      <td>invalid format</td>\n      <td>pid</td>\n      <td>15714997</td>\n    </tr>\n    <tr>\n      <th>619</th>\n      <td>1043</td>\n      <td>out of bound</td>\n      <td>eyr</td>\n      <td>1993</td>\n    </tr>\n    <tr>\n      <th>620</th>\n      <td>1043</td>\n      <td>out of bound</td>\n      <td>cm</td>\n      <td>64</td>\n    </tr>\n  </tbody>\n</table>\n<p>621 rows × 4 columns</p>\n</div>"
     },
     "metadata": {},
     "execution_count": 58
    }
   ],
   "source": [
    "# log parsed passports problems...\n",
    "count =0\n",
    "valid = pd.DataFrame(p)\n",
    "log = pd.DataFrame(p.LOG)\n",
    "log"
   ]
  },
  {
   "cell_type": "code",
   "execution_count": 60,
   "metadata": {},
   "outputs": [
    {
     "output_type": "execute_result",
     "data": {
      "text/plain": [
       "           pid   eyr  ecl    hgt   iyr   byr      hcl  cid\n",
       "0    937877382  2029  amb  187cm  2019  1933  #888785  NaN\n",
       "1    138000309  2024  oth  183cm  2013  1992  #7d3b0c  135\n",
       "2    897123249  2030  amb  165cm  2011  1948  #18171d   99\n",
       "3    827609097  2029  gry   72in  2017  1963  #cfa07d  NaN\n",
       "4    432183209  2028  hzl  152cm  2016  1984  #6b5442  NaN\n",
       "..         ...   ...  ...    ...   ...   ...      ...  ...\n",
       "148  802041641  2028  brn  184cm  2013  1969  #c0946f  NaN\n",
       "149  866047540  2030  amb   64in  2014  1951  #733820   59\n",
       "150  671492881  2023  brn   69in  2015  1962  #623a2f  NaN\n",
       "151  924256973  2028  oth  154cm  2020  1950  #b6652a  NaN\n",
       "152  720786216  2028  gry  156cm  2014  1960  #a97842   99\n",
       "\n",
       "[153 rows x 8 columns]"
      ],
      "text/html": "<div>\n<style scoped>\n    .dataframe tbody tr th:only-of-type {\n        vertical-align: middle;\n    }\n\n    .dataframe tbody tr th {\n        vertical-align: top;\n    }\n\n    .dataframe thead th {\n        text-align: right;\n    }\n</style>\n<table border=\"1\" class=\"dataframe\">\n  <thead>\n    <tr style=\"text-align: right;\">\n      <th></th>\n      <th>pid</th>\n      <th>eyr</th>\n      <th>ecl</th>\n      <th>hgt</th>\n      <th>iyr</th>\n      <th>byr</th>\n      <th>hcl</th>\n      <th>cid</th>\n    </tr>\n  </thead>\n  <tbody>\n    <tr>\n      <th>0</th>\n      <td>937877382</td>\n      <td>2029</td>\n      <td>amb</td>\n      <td>187cm</td>\n      <td>2019</td>\n      <td>1933</td>\n      <td>#888785</td>\n      <td>NaN</td>\n    </tr>\n    <tr>\n      <th>1</th>\n      <td>138000309</td>\n      <td>2024</td>\n      <td>oth</td>\n      <td>183cm</td>\n      <td>2013</td>\n      <td>1992</td>\n      <td>#7d3b0c</td>\n      <td>135</td>\n    </tr>\n    <tr>\n      <th>2</th>\n      <td>897123249</td>\n      <td>2030</td>\n      <td>amb</td>\n      <td>165cm</td>\n      <td>2011</td>\n      <td>1948</td>\n      <td>#18171d</td>\n      <td>99</td>\n    </tr>\n    <tr>\n      <th>3</th>\n      <td>827609097</td>\n      <td>2029</td>\n      <td>gry</td>\n      <td>72in</td>\n      <td>2017</td>\n      <td>1963</td>\n      <td>#cfa07d</td>\n      <td>NaN</td>\n    </tr>\n    <tr>\n      <th>4</th>\n      <td>432183209</td>\n      <td>2028</td>\n      <td>hzl</td>\n      <td>152cm</td>\n      <td>2016</td>\n      <td>1984</td>\n      <td>#6b5442</td>\n      <td>NaN</td>\n    </tr>\n    <tr>\n      <th>...</th>\n      <td>...</td>\n      <td>...</td>\n      <td>...</td>\n      <td>...</td>\n      <td>...</td>\n      <td>...</td>\n      <td>...</td>\n      <td>...</td>\n    </tr>\n    <tr>\n      <th>148</th>\n      <td>802041641</td>\n      <td>2028</td>\n      <td>brn</td>\n      <td>184cm</td>\n      <td>2013</td>\n      <td>1969</td>\n      <td>#c0946f</td>\n      <td>NaN</td>\n    </tr>\n    <tr>\n      <th>149</th>\n      <td>866047540</td>\n      <td>2030</td>\n      <td>amb</td>\n      <td>64in</td>\n      <td>2014</td>\n      <td>1951</td>\n      <td>#733820</td>\n      <td>59</td>\n    </tr>\n    <tr>\n      <th>150</th>\n      <td>671492881</td>\n      <td>2023</td>\n      <td>brn</td>\n      <td>69in</td>\n      <td>2015</td>\n      <td>1962</td>\n      <td>#623a2f</td>\n      <td>NaN</td>\n    </tr>\n    <tr>\n      <th>151</th>\n      <td>924256973</td>\n      <td>2028</td>\n      <td>oth</td>\n      <td>154cm</td>\n      <td>2020</td>\n      <td>1950</td>\n      <td>#b6652a</td>\n      <td>NaN</td>\n    </tr>\n    <tr>\n      <th>152</th>\n      <td>720786216</td>\n      <td>2028</td>\n      <td>gry</td>\n      <td>156cm</td>\n      <td>2014</td>\n      <td>1960</td>\n      <td>#a97842</td>\n      <td>99</td>\n    </tr>\n  </tbody>\n</table>\n<p>153 rows × 8 columns</p>\n</div>"
     },
     "metadata": {},
     "execution_count": 60
    }
   ],
   "source": [
    "# all valid passports...\n",
    "valid"
   ]
  },
  {
   "cell_type": "code",
   "execution_count": null,
   "metadata": {},
   "outputs": [],
   "source": []
  }
 ]
}