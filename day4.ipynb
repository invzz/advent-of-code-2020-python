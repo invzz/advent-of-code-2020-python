{
 "metadata": {
  "language_info": {
   "codemirror_mode": {
    "name": "ipython",
    "version": 3
   },
   "file_extension": ".py",
   "mimetype": "text/x-python",
   "name": "python",
   "nbconvert_exporter": "python",
   "pygments_lexer": "ipython3",
   "version": "3.7.9-final"
  },
  "orig_nbformat": 2,
  "kernelspec": {
   "name": "python3",
   "display_name": "Python 3"
  }
 },
 "nbformat": 4,
 "nbformat_minor": 2,
 "cells": [
  {
   "source": [
    "INPUT_LOCATION = 'day4.txt'"
   ],
   "cell_type": "code",
   "metadata": {},
   "execution_count": 6,
   "outputs": []
  },
  {
   "cell_type": "code",
   "execution_count": 7,
   "metadata": {},
   "outputs": [],
   "source": [
    "# fetch data \n",
    "raw_data = open(INPUT_LOCATION, 'r').readlines()\n",
    "MAP = list(map(lambda x:  x.rstrip(),raw_data))\n",
    "MAP_WIDTH = len(MAP[0])\n",
    "MAP_HEIGHT = len(MAP)\n",
    "TREE_CHAR = '#'\n",
    "start_position = {'x': 0, 'y': 0}"
   ]
  },
  {
   "cell_type": "code",
   "execution_count": 8,
   "metadata": {},
   "outputs": [],
   "source": [
    "\n",
    "def create_slope(x,y):\n",
    "    return {'x': x, 'y': y}\n",
    "\n",
    "def _move(current_position,slope):\n",
    "    return {'x': (current_position['x'] + slope['x'])%MAP_WIDTH, 'y': current_position['y'] + slope['y']}\n",
    "\n",
    "def _evaluate(current_position):\n",
    "    if MAP[current_position['y']][current_position['x']] == '#':\n",
    "        return 1\n",
    "    return 0"
   ]
  },
  {
   "cell_type": "code",
   "execution_count": 15,
   "metadata": {},
   "outputs": [],
   "source": [
    "def count_trees(position, start_count, slope):\n",
    "    if position['y'] == MAP_HEIGHT - 1 + slope['y'] :\n",
    "        return start_count\n",
    "    else: \n",
    "        count = start_count + _evaluate(position)\n",
    "        return count_trees(_move(position,slope), count, slope)"
   ]
  },
  {
   "cell_type": "code",
   "execution_count": 19,
   "metadata": {},
   "outputs": [],
   "source": [
    "from functools import reduce\n",
    "\n",
    "def count_all():\n",
    "    slopes = [\n",
    "        create_slope(1,1),\n",
    "        create_slope(3,1), \n",
    "        create_slope(5,1), \n",
    "        create_slope(7,1), \n",
    "        create_slope(1,2)\n",
    "        ]\n",
    "\n",
    "    counts = []\n",
    "\n",
    "    for slope in slopes:\n",
    "        tree_count = count_trees(start_position,0, slope)\n",
    "        counts.append(tree_count)\n",
    "        print('while travelling with my toboggan with slope  i CRUSHED', tree_count, 'trees' )\n",
    "\n",
    "    return reduce(lambda x, y: x * y, counts)"
   ]
  },
  {
   "cell_type": "code",
   "execution_count": 20,
   "metadata": {},
   "outputs": [
    {
     "output_type": "stream",
     "name": "stdout",
     "text": [
      "while travelling with my toboggan with slope  i CRUSHED 75 trees\nwhile travelling with my toboggan with slope  i CRUSHED 294 trees\nwhile travelling with my toboggan with slope  i CRUSHED 79 trees\nwhile travelling with my toboggan with slope  i CRUSHED 85 trees\nwhile travelling with my toboggan with slope  i CRUSHED 39 trees\n"
     ]
    },
    {
     "output_type": "execute_result",
     "data": {
      "text/plain": [
       "5774564250"
      ]
     },
     "metadata": {},
     "execution_count": 20
    }
   ],
   "source": [
    "count_all()"
   ]
  },
  {
   "cell_type": "code",
   "execution_count": null,
   "metadata": {},
   "outputs": [],
   "source": []
  }
 ]
}