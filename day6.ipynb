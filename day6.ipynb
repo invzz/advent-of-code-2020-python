{
 "metadata": {
  "language_info": {
   "codemirror_mode": {
    "name": "ipython",
    "version": 3
   },
   "file_extension": ".py",
   "mimetype": "text/x-python",
   "name": "python",
   "nbconvert_exporter": "python",
   "pygments_lexer": "ipython3",
   "version": "3.8.5-final"
  },
  "orig_nbformat": 2,
  "kernelspec": {
   "name": "Python 3.8.5 64-bit ('anaconda': virtualenv)",
   "display_name": "Python 3.8.5 64-bit ('anaconda': virtualenv)",
   "metadata": {
    "interpreter": {
     "hash": "f50bd5474255f82aa829301912ce59e29110123be660cf8d7583f66a20371684"
    }
   }
  }
 },
 "nbformat": 4,
 "nbformat_minor": 2,
 "cells": [
  {
   "source": [
    "import re\n",
    "from functools import reduce\n",
    "import pandas as pd\n",
    "\n",
    "#global\n",
    "INPUT_LOCATION = './inputs/day6.txt'\n",
    "SEPARATOR = '\\n'"
   ],
   "cell_type": "code",
   "metadata": {},
   "execution_count": 1,
   "outputs": []
  },
  {
   "cell_type": "code",
   "execution_count": 2,
   "metadata": {},
   "outputs": [],
   "source": [
    "clean_data = list(map(lambda x: x.rstrip() if len(x) > 1 else x,open(INPUT_LOCATION, 'r').readlines()))  "
   ]
  },
  {
   "cell_type": "code",
   "execution_count": 3,
   "metadata": {},
   "outputs": [
    {
     "output_type": "execute_result",
     "data": {
      "text/plain": [
       "['cady',\n",
       " 'ipldcyf',\n",
       " 'xybgcd',\n",
       " 'gcdy',\n",
       " 'dygbc',\n",
       " '\\n',\n",
       " 'rwhvugmspoyzfbnlcxqtdj',\n",
       " 'avqdpntxrclufbjswgzh',\n",
       " 'qbvwgzpfsrjtdxnculh',\n",
       " 'jhrpclwdxgqibfsntzuv']"
      ]
     },
     "metadata": {},
     "execution_count": 3
    }
   ],
   "source": [
    "# for test\n",
    "clean_data[0:10]"
   ]
  },
  {
   "cell_type": "code",
   "execution_count": 4,
   "metadata": {},
   "outputs": [],
   "source": [
    "class GroupIterator:\n",
    "    \n",
    "    def __init__(self, p):\n",
    "        self.p = p\n",
    "        self.index = 0\n",
    "        self.current = []\n",
    "    \n",
    "    def __iter__(self):\n",
    "        self.index = 0\n",
    "        return self\n",
    "    \n",
    "    def __next__(self):\n",
    "        l = len(self.p)\n",
    "        if self.index == l:\n",
    "            raise StopIteration \n",
    "        self.current = []\n",
    "        \n",
    "        while (self.p[self.index] != SEPARATOR):\n",
    "            self.current.append(self.p[self.index])\n",
    "            self.index += 1\n",
    "            if self.index == l:\n",
    "                raise StopIteration \n",
    "        \n",
    "        if len(self.current) > 0:\n",
    "            return \"\".join(self.current)\n",
    "        self.index += 1\n",
    "        return self.__next__()\n"
   ]
  },
  {
   "cell_type": "code",
   "execution_count": 5,
   "metadata": {},
   "outputs": [],
   "source": [
    "class PersonIterator(GroupIterator):\n",
    "   def __next__(self):\n",
    "        l = len(self.p)\n",
    "        if self.index == l:\n",
    "            raise StopIteration \n",
    "        self.current = []\n",
    "        \n",
    "        while (self.p[self.index] != SEPARATOR):\n",
    "            self.current.append(self.p[self.index])\n",
    "            self.index += 1\n",
    "            if self.index == l:\n",
    "                raise StopIteration \n",
    "        \n",
    "        if len(self.current) > 0:\n",
    "            return self.current\n",
    "        self.index += 1\n",
    "        return self.__next__()"
   ]
  },
  {
   "cell_type": "code",
   "execution_count": 6,
   "metadata": {},
   "outputs": [
    {
     "output_type": "execute_result",
     "data": {
      "text/plain": [
       "6291"
      ]
     },
     "metadata": {},
     "execution_count": 6
    }
   ],
   "source": [
    "# first question\n",
    "p = iter(GroupIterator(clean_data))\n",
    "data = []\n",
    "for g in p: \n",
    "    answers = {}\n",
    "    for ch in g:\n",
    "        if ch in answers.keys():\n",
    "            answers[ch] = answers[ch] + 1\n",
    "        else:\n",
    "            answers[ch] = 1 \n",
    "    data.append(len(answers))\n",
    "sum(data)"
   ]
  },
  {
   "cell_type": "code",
   "execution_count": 7,
   "metadata": {},
   "outputs": [
    {
     "output_type": "execute_result",
     "data": {
      "text/plain": [
       "3052"
      ]
     },
     "metadata": {},
     "execution_count": 7
    }
   ],
   "source": [
    "# second question\n",
    "p = iter(PersonIterator(clean_data))\n",
    "data = []\n",
    "for i,group in enumerate(p): \n",
    "    #print(i,group)\n",
    "    answers = {}\n",
    "    for person in group:\n",
    "        for ch in person:\n",
    "            if ch in answers.keys():\n",
    "                answers[ch] = answers[ch] + 1\n",
    "            else:\n",
    "                answers[ch] = 1 \n",
    "    to_be_deleted = []\n",
    "    for answer in answers:\n",
    "        if answers[answer] < len(group):\n",
    "            to_be_deleted.append(answer)\n",
    "    for el in to_be_deleted:\n",
    "        answers.pop(el)\n",
    "    data.append(len(answers))\n",
    "sum(data)"
   ]
  },
  {
   "cell_type": "code",
   "execution_count": null,
   "metadata": {},
   "outputs": [],
   "source": []
  }
 ]
}